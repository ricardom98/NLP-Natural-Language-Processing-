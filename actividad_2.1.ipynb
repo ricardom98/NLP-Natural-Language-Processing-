{
  "cells": [
    {
      "cell_type": "markdown",
      "metadata": {
        "id": "kAdC5J82cQmo"
      },
      "source": [
        "**Maestría en Inteligencia Artificial Aplicada (MNA)**\\\n",
        "**Procesamiento de Lenguaje Natural (NLP)**\\\n",
        "**Tecnológico de Monterrey**\n",
        "\n",
        "**Proceso de Tokenización y Vocabulario.**\n",
        "\n",
        "\n",
        "\n",
        "\n"
      ]
    },
    {
      "cell_type": "markdown",
      "metadata": {
        "id": "1cSL59C1zkTH"
      },
      "source": [
        "**Tallo (stemming) y Lematización (lemmatization)**\n",
        "\n",
        "###Para implementar las técnicas de tallado (stemming) y lematización (lemmatization) existe una gran variedad de librerías para implementar. \n",
        "\n",
        "###Ambas técnicas tratan de normalizar o etandarizar un conjunto de palabras a una secuencia de caracteres raíz (en el caso de stemming) o a la palabra lema. En ambos casos, se trata de ese token estandarizado que estará representando a otro conjunto de tokens o palabras.\n",
        "\n",
        "###Veamos unos ejemplos para clarificar los conceptos."
      ]
    },
    {
      "cell_type": "markdown",
      "metadata": {
        "id": "QdYX32_EKu-s"
      },
      "source": [
        "#**Métodos para extracción de la secuencia raíz o tallo (stemming)**"
      ]
    },
    {
      "cell_type": "markdown",
      "metadata": {
        "id": "4nVB6R9y82S9"
      },
      "source": [
        "## **Porter stemming algorithm**\n",
        "\n",
        "### uno de los más populares algoritmos en inglés desarrollado por Martin Porter: https://tartarus.org/martin/PorterStemmer/   "
      ]
    },
    {
      "cell_type": "code",
      "execution_count": 1,
      "metadata": {
        "id": "393ztBiDzVwN"
      },
      "outputs": [],
      "source": [
        "import nltk\n",
        "from nltk.stem import PorterStemmer   "
      ]
    },
    {
      "cell_type": "code",
      "execution_count": 2,
      "metadata": {
        "colab": {
          "base_uri": "https://localhost:8080/"
        },
        "id": "-Efo0UJEdG-6",
        "outputId": "ca1a49a3-40a5-4bef-e53f-73074d0dd128"
      },
      "outputs": [
        {
          "name": "stderr",
          "output_type": "stream",
          "text": [
            "[nltk_data] Downloading package omw-1.4 to\n",
            "[nltk_data]     C:\\Users\\RicardoMoralesBustil\\AppData\\Roaming\\nltk_dat\n",
            "[nltk_data]     a...\n"
          ]
        },
        {
          "data": {
            "text/plain": [
              "True"
            ]
          },
          "execution_count": 2,
          "metadata": {},
          "output_type": "execute_result"
        }
      ],
      "source": [
        "nltk.download('omw-1.4')   # paquete de nltk que ayuda en el proceso de stemming y lemmatization."
      ]
    },
    {
      "cell_type": "code",
      "execution_count": 3,
      "metadata": {
        "id": "QREEl0rB3Ux9"
      },
      "outputs": [],
      "source": [
        "# creamos un objeto de la clase PorterStemmer\n",
        "ps = PorterStemmer()"
      ]
    },
    {
      "cell_type": "code",
      "execution_count": 4,
      "metadata": {
        "colab": {
          "base_uri": "https://localhost:8080/"
        },
        "id": "WsHCN8ug0-Jc",
        "outputId": "3981f9b4-8eaf-4710-fe67-1760fc218af7"
      },
      "outputs": [
        {
          "data": {
            "text/plain": [
              "['visit', 'visit', 'visit']"
            ]
          },
          "execution_count": 4,
          "metadata": {},
          "output_type": "execute_result"
        }
      ],
      "source": [
        "# Verbo regular:\n",
        "x = ['visits', 'visited', 'visiting']\n",
        "\n",
        "[ps.stem(w) for w in x]"
      ]
    },
    {
      "cell_type": "code",
      "execution_count": 5,
      "metadata": {
        "colab": {
          "base_uri": "https://localhost:8080/"
        },
        "id": "21PVPjNj4S4d",
        "outputId": "7b530a2c-69fb-4766-9ac2-648066f3d95c"
      },
      "outputs": [
        {
          "name": "stdout",
          "output_type": "stream",
          "text": [
            "['fall', 'fell', 'fallen', 'fall', 'ring', 'rang', 'rung', 'ring', 'come', 'came', 'come', 'built']\n"
          ]
        }
      ],
      "source": [
        "# Verbo irregular:\n",
        "y = ['fall', 'fell', 'fallen', 'falling', 'ring', 'rang', 'rung', 'ringing', 'come', 'came', 'coming', 'built']\n",
        "\n",
        "print([ps.stem(w) for w in y])"
      ]
    },
    {
      "cell_type": "code",
      "execution_count": 6,
      "metadata": {
        "colab": {
          "base_uri": "https://localhost:8080/"
        },
        "id": "TKpE0Kc85cZG",
        "outputId": "68b710e4-4f13-4abd-c381-682d1b0acb28"
      },
      "outputs": [
        {
          "name": "stdout",
          "output_type": "stream",
          "text": [
            "['strang', 'dog', 'beauti', 'amaz', 'cat', 'termin', 'care', 'eldest', 'farthest', 'further', 'queri', 'waterb']\n"
          ]
        }
      ],
      "source": [
        "# otro tipo de palabras...\n",
        "z = ['strange', 'dogs', 'beautiful', 'amazing', 'cats', 'terminator', 'carefully', 'eldest', 'farthest', 'further', 'queries', 'waterbed']\n",
        "\n",
        "print([ps.stem(w) for w in z])\n"
      ]
    },
    {
      "cell_type": "markdown",
      "metadata": {
        "id": "X6vbrUyL89Hc"
      },
      "source": [
        "## **Lancaster - Paice/Husk stemming algorithm**\n",
        "\n",
        "#### Algoritmo desarrollado por Chris D. Paice en la Universidad de Lancaster. \n",
        "\n",
        "https://dl.acm.org/doi/pdf/10.1145/101306.101310\n",
        "\n",
        "Generalmente reduce más la longitud de una palabra y es más rápido en general. Podemos decir que es \"más agresivo\" en relación a otros algoritmos, aunque esto pueda generar luego problemas en la interpretación o significado de las salidas generadas."
      ]
    },
    {
      "cell_type": "code",
      "execution_count": 7,
      "metadata": {
        "id": "Qer94dYq9I-p"
      },
      "outputs": [],
      "source": [
        "from nltk.stem import LancasterStemmer"
      ]
    },
    {
      "cell_type": "code",
      "execution_count": 8,
      "metadata": {
        "id": "agZuCoF69om0"
      },
      "outputs": [],
      "source": [
        "ls = LancasterStemmer()"
      ]
    },
    {
      "cell_type": "code",
      "execution_count": 9,
      "metadata": {
        "colab": {
          "base_uri": "https://localhost:8080/"
        },
        "id": "_w6JaCi59yFU",
        "outputId": "454300bd-7597-4985-f42b-bb217626c7cd"
      },
      "outputs": [
        {
          "data": {
            "text/plain": [
              "['visit', 'visit', 'visit']"
            ]
          },
          "execution_count": 9,
          "metadata": {},
          "output_type": "execute_result"
        }
      ],
      "source": [
        "x = ['visits', 'visited', 'visiting']\n",
        "\n",
        "[ls.stem(w) for w in x]"
      ]
    },
    {
      "cell_type": "code",
      "execution_count": 10,
      "metadata": {
        "colab": {
          "base_uri": "https://localhost:8080/"
        },
        "id": "01F3Qf-191t7",
        "outputId": "91533b98-d9ba-4fb3-9f22-b8368df294e9"
      },
      "outputs": [
        {
          "name": "stdout",
          "output_type": "stream",
          "text": [
            "['fal', 'fel', 'fal', 'fal', 'ring', 'rang', 'rung', 'ring', 'com', 'cam', 'com', 'built', 'wer']\n"
          ]
        }
      ],
      "source": [
        "y = ['fall', 'fell', 'fallen', 'falling', 'ring', 'rang', 'rung', 'ringing', 'come', 'came', 'coming', 'built', 'were']\n",
        "\n",
        "print([ls.stem(w) for w in y])"
      ]
    },
    {
      "cell_type": "code",
      "execution_count": 11,
      "metadata": {
        "colab": {
          "base_uri": "https://localhost:8080/"
        },
        "id": "NjNjsRAI-BA0",
        "outputId": "027ba7ca-109b-40f5-bf43-002498a23c6f"
      },
      "outputs": [
        {
          "name": "stdout",
          "output_type": "stream",
          "text": [
            "['strange', 'dog', 'beauty', 'amaz', 'cat', 'termin', 'car', 'eldest', 'farthest', 'furth', 'query', 'waterb']\n"
          ]
        }
      ],
      "source": [
        "z = ['strange', 'dogs', 'beautiful', 'amazing', 'cats', 'terminator', 'carefully', 'eldest', 'farthest', 'further', 'queries', 'waterbed']\n",
        "\n",
        "print([ls.stem(w) for w in z])"
      ]
    },
    {
      "cell_type": "markdown",
      "metadata": {},
      "source": [
        "Como en el caso anterior, esto sucede con el algoritmo Lancaster Stemmer, al reducir los caracteres de la palabra, puede eliminar algunas que sean parte del significado."
      ]
    },
    {
      "cell_type": "markdown",
      "metadata": {
        "id": "BbGiKTkTwgKZ"
      },
      "source": [
        "## **RegexpStemmer stemming algorithm**\n",
        "\n",
        "### **Rule-base-method**: Lo interesante de este modelo es que puedes construir tus propias reglas y complementarlo con alguno de los otros algoritmos.\n",
        "\n",
        "Puedes consultar su documentación para mayor información:\n",
        "\n",
        "https://www.nltk.org/_modules/nltk/stem/regexp.html \n",
        "\n",
        "\n"
      ]
    },
    {
      "cell_type": "code",
      "execution_count": 12,
      "metadata": {
        "id": "SqOVuooPwxaA"
      },
      "outputs": [],
      "source": [
        "from nltk.stem import RegexpStemmer"
      ]
    },
    {
      "cell_type": "code",
      "execution_count": 13,
      "metadata": {
        "id": "La3-0oflxUPJ"
      },
      "outputs": [],
      "source": [
        "# min : longitud mínima del string para que se aplique la regla:\n",
        "rs = RegexpStemmer(r'ing$|ed$|s$|t$', min=3)   # definimos la regla deseada construyendo un objeto de RegexpStemmer()."
      ]
    },
    {
      "cell_type": "code",
      "execution_count": 14,
      "metadata": {
        "colab": {
          "base_uri": "https://localhost:8080/"
        },
        "id": "859Gfw84yP4w",
        "outputId": "32cccba2-02df-435e-ad92-57fbdbfcfc84"
      },
      "outputs": [
        {
          "data": {
            "text/plain": [
              "['visit', 'visit', 'visit']"
            ]
          },
          "execution_count": 14,
          "metadata": {},
          "output_type": "execute_result"
        }
      ],
      "source": [
        "x = ['visits', 'visited', 'visiting']\n",
        "\n",
        "[rs.stem(w) for w in x]"
      ]
    },
    {
      "cell_type": "code",
      "execution_count": 15,
      "metadata": {
        "colab": {
          "base_uri": "https://localhost:8080/"
        },
        "id": "iAfavbdXyWAa",
        "outputId": "33edb8c2-188d-4f35-b87b-0f38923b3b82"
      },
      "outputs": [
        {
          "name": "stdout",
          "output_type": "stream",
          "text": [
            "['fall', 'fell', 'fallen', 'fall', 'r', 'rang', 'rung', 'ring', 'come', 'came', 'com', 'buil', 'were']\n"
          ]
        }
      ],
      "source": [
        "y = ['fall', 'fell', 'fallen', 'falling', 'ring', 'rang', 'rung', 'ringing', 'come', 'came', 'coming', 'built', 'were']\n",
        "\n",
        "print([rs.stem(w) for w in y])"
      ]
    },
    {
      "cell_type": "code",
      "execution_count": 16,
      "metadata": {
        "colab": {
          "base_uri": "https://localhost:8080/"
        },
        "id": "6Zqk8cAuygjw",
        "outputId": "bdfc15d1-34bf-4097-b928-09154b5ce914"
      },
      "outputs": [
        {
          "name": "stdout",
          "output_type": "stream",
          "text": [
            "['strange', 'dog', 'beautiful', 'amaz', 'cat', 'terminator', 'carefully', 'eldes', 'farthes', 'further', 'querie', 'waterb']\n"
          ]
        }
      ],
      "source": [
        "z = ['strange', 'dogs', 'beautiful', 'amazing', 'cats', 'terminator', 'carefully', 'eldest', 'farthest', 'further', 'queries', 'waterbed']\n",
        "\n",
        "print([rs.stem(w) for w in z])"
      ]
    },
    {
      "cell_type": "markdown",
      "metadata": {
        "id": "Evd9wbyt38sI"
      },
      "source": [
        "### Podemos crear nuestras propias reglas en **Español** con RegexpStemmer, ya que no depende estrictamente de algún idioma en particular:"
      ]
    },
    {
      "cell_type": "code",
      "execution_count": 17,
      "metadata": {
        "id": "N4KvWi364D9J"
      },
      "outputs": [],
      "source": [
        "srs = RegexpStemmer('ron$|ste$|é|ando|ar$', min=5)  "
      ]
    },
    {
      "cell_type": "code",
      "execution_count": 18,
      "metadata": {
        "colab": {
          "base_uri": "https://localhost:8080/"
        },
        "id": "jgGE6LGZ4gNQ",
        "outputId": "38533f69-3149-4411-fcfa-f8816f15e0c0"
      },
      "outputs": [
        {
          "name": "stdout",
          "output_type": "stream",
          "text": [
            "['jug', 'jug', 'jugu', 'juga', 'camin', 'almorc', 'fué', 'fue', 'fui', 'acept', 'aceptó', 'acepta', 'rei']\n"
          ]
        }
      ],
      "source": [
        "x = ['jugar', 'jugando', 'jugué', 'jugaste', 'caminé', 'almorcé', 'fué', 'fueron', 'fuiste', 'aceptar', 'aceptó', 'aceptaron', 'reiste']\n",
        "\n",
        "print([srs.stem(w) for w in x])"
      ]
    },
    {
      "cell_type": "markdown",
      "metadata": {
        "id": "H_GVf_ebzCDR"
      },
      "source": [
        "## **Snowball - Porter2 stemming algorithm**\n",
        "\n",
        "### Es un algoritmo que mejora el algoritmo de Porter, principalmente en cuanto al tiempo de cómputo. \n",
        "\n",
        "###Pero la principal diferencia es que soporta diferentes idiomas, entre ellos el **Español**."
      ]
    },
    {
      "cell_type": "code",
      "execution_count": 19,
      "metadata": {
        "id": "ihk3HlEe0jh5"
      },
      "outputs": [],
      "source": [
        "from nltk.stem import SnowballStemmer"
      ]
    },
    {
      "cell_type": "code",
      "execution_count": 20,
      "metadata": {
        "colab": {
          "base_uri": "https://localhost:8080/"
        },
        "id": "wV87iCk7caQg",
        "outputId": "7069deee-ab5e-4397-a829-9000f40ef6c3"
      },
      "outputs": [
        {
          "name": "stdout",
          "output_type": "stream",
          "text": [
            "('arabic', 'danish', 'dutch', 'english', 'finnish', 'french', 'german', 'hungarian', 'italian', 'norwegian', 'porter', 'portuguese', 'romanian', 'russian', 'spanish', 'swedish')\n"
          ]
        }
      ],
      "source": [
        "print(SnowballStemmer.languages)"
      ]
    },
    {
      "cell_type": "code",
      "execution_count": 21,
      "metadata": {
        "id": "r2zFoVQx0_Dw"
      },
      "outputs": [],
      "source": [
        "ss = SnowballStemmer(\"english\")"
      ]
    },
    {
      "cell_type": "code",
      "execution_count": 28,
      "metadata": {
        "colab": {
          "base_uri": "https://localhost:8080/"
        },
        "id": "pTWmLOLX1ydh",
        "outputId": "ed05fa29-8838-4a61-d028-0aef59220f22"
      },
      "outputs": [
        {
          "data": {
            "text/plain": [
              "['visit', 'visit', 'visit']"
            ]
          },
          "execution_count": 28,
          "metadata": {},
          "output_type": "execute_result"
        }
      ],
      "source": [
        "x = ['visits', 'visited', 'visiting']\n",
        "\n",
        "[ss.stem(w) for w in x]"
      ]
    },
    {
      "cell_type": "code",
      "execution_count": 22,
      "metadata": {
        "colab": {
          "base_uri": "https://localhost:8080/"
        },
        "id": "etcz4GCM11zo",
        "outputId": "f1c7a30a-ed7c-49b7-e2a1-ef9c555b2ec9"
      },
      "outputs": [
        {
          "name": "stdout",
          "output_type": "stream",
          "text": [
            "['fall', 'fell', 'fallen', 'fall', 'ring', 'rang', 'rung', 'ring', 'come', 'came', 'come', 'built', 'were']\n"
          ]
        }
      ],
      "source": [
        "y = ['fall', 'fell', 'fallen', 'falling', 'ring', 'rang', 'rung', 'ringing', 'come', 'came', 'coming', 'built', 'were']\n",
        "\n",
        "print([ss.stem(w) for w in y])"
      ]
    },
    {
      "cell_type": "code",
      "execution_count": 23,
      "metadata": {
        "colab": {
          "base_uri": "https://localhost:8080/"
        },
        "id": "w9EXplA619ds",
        "outputId": "4d57c94c-edfa-4d6f-ecd1-d27796bc6b42"
      },
      "outputs": [
        {
          "name": "stdout",
          "output_type": "stream",
          "text": [
            "['strang', 'dog', 'beauti', 'amaz', 'cat', 'termin', 'care', 'eldest', 'farthest', 'further', 'queri', 'waterb']\n"
          ]
        }
      ],
      "source": [
        "z = ['strange', 'dogs', 'beautiful', 'amazing', 'cats', 'terminator', 'carefully', 'eldest', 'farthest', 'further', 'queries', 'waterbed']\n",
        "\n",
        "print([ss.stem(w) for w in z])"
      ]
    },
    {
      "cell_type": "markdown",
      "metadata": {
        "id": "xExutVXp2Pof"
      },
      "source": [
        "### **Veamos algunos casos en Español:**"
      ]
    },
    {
      "cell_type": "code",
      "execution_count": 24,
      "metadata": {
        "id": "yqzeh4tT2TQI"
      },
      "outputs": [],
      "source": [
        "sss = SnowballStemmer(\"spanish\")"
      ]
    },
    {
      "cell_type": "code",
      "execution_count": 25,
      "metadata": {
        "colab": {
          "base_uri": "https://localhost:8080/"
        },
        "id": "VwUovJmM2XaA",
        "outputId": "4100ac7b-32cc-4aa1-f4a6-3887a8150c11"
      },
      "outputs": [
        {
          "name": "stdout",
          "output_type": "stream",
          "text": [
            "['jug', 'jug', 'jug', 'jug', 'jug', 'camin', 'almorc', 'fue', 'fueron', 'fuist', 'acept', 'acept', 'acept', 'acept']\n"
          ]
        }
      ],
      "source": [
        "x = ['jugar', 'jugando', 'jugué', 'jugaste', 'jugo', 'caminé', 'almorcé', 'fué', 'fueron', 'fuiste', 'aceptar', 'aceptó', 'aceptaron', 'aceptaste']\n",
        "\n",
        "print([sss.stem(w) for w in x])"
      ]
    },
    {
      "cell_type": "code",
      "execution_count": 26,
      "metadata": {
        "colab": {
          "base_uri": "https://localhost:8080/"
        },
        "id": "c726NWzY8Jpg",
        "outputId": "385873b9-19f2-4534-ee19-762443dc3009"
      },
      "outputs": [
        {
          "name": "stdout",
          "output_type": "stream",
          "text": [
            "['hac', 'hac', 'hiz', 'hic', 'hic', 'hac', 'hac', 'hac', 'har', 'har', 'hech', 'hag', 'har']\n"
          ]
        }
      ],
      "source": [
        "# veamos cómo lo hace con un verbo irregular:\n",
        "\n",
        "x = ['hacer', 'hace', 'hizo', 'hiciste', 'hicieron', 'hacéis', 'hacemos', 'hacía', 'haremos', 'haré', 'hecho', 'hagamos', 'haríamos']\n",
        "\n",
        "print([sss.stem(w) for w in x])"
      ]
    },
    {
      "cell_type": "code",
      "execution_count": 27,
      "metadata": {
        "colab": {
          "base_uri": "https://localhost:8080/"
        },
        "id": "0NVWADhRJbwN",
        "outputId": "bc9ecf03-2578-4d58-e453-92aa92320f3c"
      },
      "outputs": [
        {
          "name": "stdout",
          "output_type": "stream",
          "text": [
            "['feliz', 'felic', 'grandios', 'mejor', 'mejor', 'gat', 'carisim', 'artist', 'rapid']\n"
          ]
        }
      ],
      "source": [
        "x = ['felizmente', 'felicidades', 'grandioso', 'mejorando', 'mejorado', 'gatos', 'carísimo', 'artistas', 'rápidamente']\n",
        "\n",
        "print([sss.stem(w) for w in x])"
      ]
    },
    {
      "cell_type": "markdown",
      "metadata": {
        "id": "Yj_R79CTBbWf"
      },
      "source": [
        "#**Métodos para extracción del lema o lematización (lemmatization)**\n",
        "\n",
        "### Se requiere de la base de datos de WordNet "
      ]
    },
    {
      "cell_type": "code",
      "execution_count": 28,
      "metadata": {
        "colab": {
          "base_uri": "https://localhost:8080/"
        },
        "id": "aM9UpwOtBfJg",
        "outputId": "62a389fe-05de-4494-fd56-a9f3a6ac5619"
      },
      "outputs": [
        {
          "name": "stderr",
          "output_type": "stream",
          "text": [
            "[nltk_data] Downloading package wordnet to\n",
            "[nltk_data]     C:\\Users\\RicardoMoralesBustil\\AppData\\Roaming\\nltk_dat\n",
            "[nltk_data]     a...\n"
          ]
        },
        {
          "data": {
            "text/plain": [
              "True"
            ]
          },
          "execution_count": 28,
          "metadata": {},
          "output_type": "execute_result"
        }
      ],
      "source": [
        "from nltk.stem import WordNetLemmatizer\n",
        "nltk.download('wordnet')"
      ]
    },
    {
      "cell_type": "code",
      "execution_count": 29,
      "metadata": {
        "id": "aLo5zlsqBoIH"
      },
      "outputs": [],
      "source": [
        "wnl = WordNetLemmatizer() "
      ]
    },
    {
      "cell_type": "code",
      "execution_count": 30,
      "metadata": {
        "colab": {
          "base_uri": "https://localhost:8080/"
        },
        "id": "jtw9i0MZB2nP",
        "outputId": "412f7604-9f11-46f6-b3c5-761b07d4cb5a"
      },
      "outputs": [
        {
          "name": "stdout",
          "output_type": "stream",
          "text": [
            "['fall', 'fell', 'fallen', 'falling', 'foot', 'ring', 'rang', 'rung', 'ringing', 'come', 'came', 'coming', 'built', 'were', 'am', 'is']\n"
          ]
        }
      ],
      "source": [
        "y = ['fall', 'fell', 'fallen', 'falling', 'feet', 'ring', 'rang', 'rung', 'ringing', 'come', 'came', 'coming', 'built', 'were', 'am', 'is']\n",
        "\n",
        "print([wnl.lemmatize(w) for w in y])"
      ]
    },
    {
      "cell_type": "markdown",
      "metadata": {
        "id": "C433zO21CZIH"
      },
      "source": [
        "###Observa que no llevó a cabo ninguna modificación, esto es porque requiere la información sintáctica de la palabra. \n",
        "\n",
        "###La opción predeterminada es \"noun\" (sustantivo).\n",
        "\n",
        "###En este caso que todos son verbos, veamos como esta información nos ayuda a obtener mejores resultados:"
      ]
    },
    {
      "cell_type": "code",
      "execution_count": 31,
      "metadata": {
        "colab": {
          "base_uri": "https://localhost:8080/"
        },
        "id": "mg32oOSiCtIy",
        "outputId": "314c3e86-7266-478f-bcc4-f220de466151"
      },
      "outputs": [
        {
          "name": "stdout",
          "output_type": "stream",
          "text": [
            "['fall', 'fell', 'fall', 'fall', 'feet', 'ring', 'ring', 'ring', 'ring', 'come', 'come', 'come', 'build', 'be', 'be', 'be']\n"
          ]
        }
      ],
      "source": [
        "#verbs\n",
        "z = ['fall', 'fell', 'fallen', 'falling', 'feet', 'ring', 'rang', 'rung', 'ringing', 'come', 'came', 'coming', 'built', 'were', 'am', 'is']\n",
        "\n",
        "print([wnl.lemmatize(w, pos='v') for w in z])"
      ]
    },
    {
      "cell_type": "code",
      "execution_count": 32,
      "metadata": {
        "colab": {
          "base_uri": "https://localhost:8080/"
        },
        "id": "ZDQehaJhC7iv",
        "outputId": "3ce02077-805b-44f1-e80f-14d789b7ce47"
      },
      "outputs": [
        {
          "name": "stdout",
          "output_type": "stream",
          "text": [
            "['stranger', 'dog', 'beautifully', 'amaze', 'whiter', 'terminator', 'carefully', 'eldest', 'farthest', 'further', 'query', 'waterbed']\n"
          ]
        }
      ],
      "source": [
        "z = ['stranger', 'dogs', 'beautifully', 'amazing', 'whiter', 'terminator', 'carefully', 'eldest', 'farthest', 'further', 'queries', 'waterbed']\n",
        "# verbs\n",
        "print([wnl.lemmatize(w, 'v') for w in z])"
      ]
    },
    {
      "cell_type": "code",
      "execution_count": 33,
      "metadata": {
        "colab": {
          "base_uri": "https://localhost:8080/"
        },
        "id": "-DrkmOQ4DQz_",
        "outputId": "462aeb6a-cb1e-4488-9bdb-f20570b03590"
      },
      "outputs": [
        {
          "name": "stdout",
          "output_type": "stream",
          "text": [
            "['language', 'dog', 'developer', 'nationalism', 'artist', 'government', 'happiness', 'championship', 'station']\n"
          ]
        }
      ],
      "source": [
        "# nouns\n",
        "z = ['languages', 'dogs', 'developer', 'nationalism', 'artist', 'government', 'happiness', 'championship', 'station']\n",
        "\n",
        "print([wnl.lemmatize(w, 'n') for w in z])"
      ]
    },
    {
      "cell_type": "code",
      "execution_count": 34,
      "metadata": {
        "colab": {
          "base_uri": "https://localhost:8080/"
        },
        "id": "NNHBI19DDemg",
        "outputId": "47e3a72f-b3f7-47c4-929b-31e4f6c08a09"
      },
      "outputs": [
        {
          "name": "stdout",
          "output_type": "stream",
          "text": [
            "['tall', 'tall', 'big', 'high', 'ugly', 'happy']\n"
          ]
        }
      ],
      "source": [
        "# adjectives\n",
        "z = ['tall', 'tallest', 'bigger', 'highest', 'ugliest', 'happier']\n",
        "\n",
        "print([wnl.lemmatize(w, 'a') for w in z])"
      ]
    },
    {
      "cell_type": "code",
      "execution_count": 35,
      "metadata": {
        "colab": {
          "base_uri": "https://localhost:8080/"
        },
        "id": "G8f0_mOvgIkf",
        "outputId": "baf55760-790d-434e-fafe-32965504d08a"
      },
      "outputs": [
        {
          "name": "stdout",
          "output_type": "stream",
          "text": [
            "['openly', 'actually', 'well']\n"
          ]
        }
      ],
      "source": [
        "# adverbios\n",
        "z = ['openly', 'actually', 'better']\n",
        "\n",
        "print([wnl.lemmatize(w, 'r') for w in z])"
      ]
    },
    {
      "cell_type": "markdown",
      "metadata": {
        "id": "VEkl6fkgI-1c"
      },
      "source": [
        "Más adelante lo combinaremos con los métodos llamados POStag, que clasifica precisamente cada palabra como verbo, adjetivo, etc."
      ]
    },
    {
      "cell_type": "markdown",
      "metadata": {
        "id": "uNgfhho3q25H"
      },
      "source": [
        "## Comparación tabular:"
      ]
    },
    {
      "cell_type": "code",
      "execution_count": 36,
      "metadata": {
        "colab": {
          "base_uri": "https://localhost:8080/"
        },
        "id": "7UNG6YVbq6J8",
        "outputId": "f8b0d9fc-7051-41e7-fcf1-76c879f6dbff"
      },
      "outputs": [
        {
          "name": "stdout",
          "output_type": "stream",
          "text": [
            "Word                Porter Stemmer      lancaster Stemmer   \n",
            "fall                fall                fal                 \n",
            "fell                fell                fel                 \n",
            "fallen              fallen              fal                 \n",
            "falling             fall                fal                 \n",
            "feet                feet                feet                \n",
            "ring                ring                ring                \n",
            "rang                rang                rang                \n",
            "rung                rung                rung                \n",
            "ringing             ring                ring                \n",
            "come                come                com                 \n",
            "came                came                cam                 \n",
            "coming              come                com                 \n",
            "built               built               built               \n",
            "were                were                wer                 \n",
            "am                  am                  am                  \n",
            "is                  is                  is                  \n"
          ]
        }
      ],
      "source": [
        "print(\"{0:20}{1:20}{2:20}\".format(\"Word\",\"Porter Stemmer\",\"lancaster Stemmer\"))\n",
        "for word in y:\n",
        "    print(\"{0:20}{1:20}{2:20}\".format(word, ps.stem(word),ls.stem(word)))"
      ]
    },
    {
      "cell_type": "markdown",
      "metadata": {
        "id": "vZOtWSGNLJvH"
      },
      "source": [
        "Aunque existen algunas métricas que miden qué tanto se simplificó un documento con alguno de estos métodos, en la práctica es aplicar varios de ellos y observar cuál te da los mejores resultados en el análisis que estés realizando."
      ]
    }
  ],
  "metadata": {
    "colab": {
      "collapsed_sections": [
        "QdYX32_EKu-s",
        "Yj_R79CTBbWf"
      ],
      "provenance": []
    },
    "kernelspec": {
      "display_name": "env",
      "language": "python",
      "name": "python3"
    },
    "language_info": {
      "codemirror_mode": {
        "name": "ipython",
        "version": 3
      },
      "file_extension": ".py",
      "mimetype": "text/x-python",
      "name": "python",
      "nbconvert_exporter": "python",
      "pygments_lexer": "ipython3",
      "version": "3.11.2"
    }
  },
  "nbformat": 4,
  "nbformat_minor": 0
}
