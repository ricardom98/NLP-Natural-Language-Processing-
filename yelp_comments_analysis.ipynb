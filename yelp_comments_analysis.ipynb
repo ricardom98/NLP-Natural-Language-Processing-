{
  "cells": [
    {
      "cell_type": "markdown",
      "metadata": {
        "id": "759SG4TyfbUn"
      },
      "source": [
        "**Maestría en Inteligencia Artificial Aplicada**\\\n",
        "**Curso: Procesamiento de Lenguaje Natural (NLP)**\\\n",
        "**Tecnológico de Monterrey**\n",
        "\n",
        "**Introducción al procesamiento de texto.**"
      ]
    },
    {
      "cell_type": "markdown",
      "metadata": {
        "id": "6ue1YAKx3XDo"
      },
      "source": [
        "El archivo contiene comentarios en inglés sobre servicios de comida de la página de Yelp: https://www.yelp.com/ . \n",
        "\n",
        "Son mil comentarios y forman parte del conjunto de datos que se encuentra en el Machine Learning Repository de la UCI, llamado \"Sentiment Labelled Sentences\": https://archive.ics.uci.edu/ml/datasets/Sentiment+Labelled+Sentences#\n"
      ]
    },
    {
      "cell_type": "markdown",
      "metadata": {
        "id": "Zj-h4drXD-X9"
      },
      "source": [
        "#**Parte 1. Cargamos los datos.**   "
      ]
    },
    {
      "cell_type": "markdown",
      "metadata": {
        "id": "BY6yifxscfrx"
      },
      "source": [
        "Cargar los datos del archivo `yelp_comments_data.txt` y obtener una lista de longitud de 1000 strings/comentarios. \n",
        "\n",
        "Por el momento solamente requerimos las bibliotecas de Numpy y re, para el manejo de los arreglos y de las expresiones regulares en Python."
      ]
    },
    {
      "cell_type": "code",
      "execution_count": 1,
      "metadata": {
        "id": "OJ26dAfhdFnf"
      },
      "outputs": [],
      "source": [
        "import numpy as np    # importamos Numpy para el manejo de los arreglos.\n",
        "import re             # importamos re para el manejo de las expresiones regulares."
      ]
    },
    {
      "cell_type": "code",
      "execution_count": 29,
      "metadata": {
        "id": "QHUmJyjDdGNP"
      },
      "outputs": [],
      "source": [
        "with open('yelp_comments_data.txt',\n",
        "          mode='r', encoding = 'utf-8'             \n",
        "          ) as f:\n",
        "    docs = f.readlines()    # separamos cada comentario por líneas\n",
        "\n",
        "f.close()  # ya que tenemos la información en la variable docs, cerramos el archivo"
      ]
    },
    {
      "cell_type": "code",
      "execution_count": 30,
      "metadata": {
        "id": "L6WzrSrodG-Y"
      },
      "outputs": [
        {
          "data": {
            "text/plain": [
              "True"
            ]
          },
          "execution_count": 30,
          "metadata": {},
          "output_type": "execute_result"
        }
      ],
      "source": [
        "type(docs) == list"
      ]
    },
    {
      "cell_type": "code",
      "execution_count": 31,
      "metadata": {
        "id": "QIK1u9WS2FtS"
      },
      "outputs": [
        {
          "data": {
            "text/plain": [
              "True"
            ]
          },
          "execution_count": 31,
          "metadata": {},
          "output_type": "execute_result"
        }
      ],
      "source": [
        "len(docs)==1000"
      ]
    },
    {
      "cell_type": "code",
      "execution_count": 32,
      "metadata": {
        "id": "9AMLIfQvJqNZ"
      },
      "outputs": [
        {
          "data": {
            "text/plain": [
              "['Wow... Loved this place.\\n',\n",
              " 'Crust is not good.\\n',\n",
              " 'Not tasty and the texture was just nasty.\\n',\n",
              " 'Stopped by during the late May bank holiday off Rick Steve recommendation and loved it.\\n',\n",
              " 'The selection on the menu was great and so were the prices.\\n',\n",
              " 'Now I am getting angry and I want my damn pho.\\n',\n",
              " \"Honeslty it didn't taste THAT fresh.)\\n\",\n",
              " 'The potatoes were like rubber and you could tell they had been made up ahead of time being kept under a warmer.\\n',\n",
              " 'The fries were great too.\\n',\n",
              " 'A great touch.\\n']"
            ]
          },
          "execution_count": 32,
          "metadata": {},
          "output_type": "execute_result"
        }
      ],
      "source": [
        "docs[0:10]"
      ]
    },
    {
      "cell_type": "markdown",
      "metadata": {
        "id": "k_ewoagic5jc"
      },
      "source": [
        "#**Parte 2: Uso de Expresiones Regulares (regex).**   \n"
      ]
    },
    {
      "cell_type": "markdown",
      "metadata": {
        "id": "78nJMemzn5a5"
      },
      "source": [
        "*   **Pregunta 1.** \n",
        "\n",
        "Busca y elimina todos los saltos de línea '\\n' que se encuentran al final de cada comentario. \n",
        "\n",
        "Una vez finalizado, imprime los primeros 10 comentarios del resultado obtenido.\n"
      ]
    },
    {
      "cell_type": "code",
      "execution_count": 33,
      "metadata": {
        "id": "PwbYYIuZn8pE"
      },
      "outputs": [],
      "source": [
        "# Se crea una función para los distintos ejercicios de RegEx\n",
        "def matching_words(docs, patron):\n",
        "    match_words = []\n",
        "\n",
        "    for line in docs:\n",
        "        words = re.findall(patron, line)\n",
        "        match_words.extend(words)\n",
        "    print (match_words)\n",
        "    print (f\"Hay {len(match_words)} resultados\")"
      ]
    },
    {
      "cell_type": "code",
      "execution_count": 34,
      "metadata": {
        "id": "j-0qeh2Jn8l1"
      },
      "outputs": [
        {
          "data": {
            "text/plain": [
              "['Wow... Loved this place.',\n",
              " 'Crust is not good.',\n",
              " 'Not tasty and the texture was just nasty.',\n",
              " 'Stopped by during the late May bank holiday off Rick Steve recommendation and loved it.',\n",
              " 'The selection on the menu was great and so were the prices.',\n",
              " 'Now I am getting angry and I want my damn pho.',\n",
              " \"Honeslty it didn't taste THAT fresh.)\",\n",
              " 'The potatoes were like rubber and you could tell they had been made up ahead of time being kept under a warmer.',\n",
              " 'The fries were great too.',\n",
              " 'A great touch.']"
            ]
          },
          "execution_count": 34,
          "metadata": {},
          "output_type": "execute_result"
        }
      ],
      "source": [
        "docs = [line.replace('\\n', '') for line in docs]\n",
        "docs [0:10]"
      ]
    },
    {
      "cell_type": "markdown",
      "metadata": {
        "id": "VWeKQC93ctEo"
      },
      "source": [
        "*   **Pregunta 2.**  \n",
        "\n",
        "Busca e imprime todas las palabras que terminan con dos o más signos de admiración seguidos, por ejemplo \"!!!\". \n",
        "\n",
        "Debes imprimir tanto la palabra como la totalidad de signos de admiración que le siguen. \n",
        "\n",
        "Indica cuántos resultados obtuviste.\n",
        "\n"
      ]
    },
    {
      "cell_type": "code",
      "execution_count": 15,
      "metadata": {
        "id": "0p3kMXfddICc"
      },
      "outputs": [
        {
          "name": "stdout",
          "output_type": "stream",
          "text": [
            "['Firehouse!!!!!', 'APPETIZERS!!!', 'amazing!!!', 'buffet!!!', 'good!!', 'it!!!!', 'DELICIOUS!!', 'amazing!!', 'shawarrrrrrma!!!!!!', 'yucky!!!', 'steak!!!!!', 'delicious!!!', 'far!!', 'biscuits!!!', 'dry!!', 'disappointing!!!', 'awesome!!', 'Up!!', 'FLY!!!!!!!!', 'here!!!', 'great!!!!!!!!!!!!!!', 'packed!!', 'otherwise!!', 'amazing!!!!!!!!!!!!!!!!!!!', 'style!!', 'disappointed!!']\n",
            "Hay 26 resultados\n"
          ]
        }
      ],
      "source": [
        "patron_1 = r\"\\w+!{2,}\"\n",
        "matching_words(docs, patron_1)"
      ]
    },
    {
      "cell_type": "markdown",
      "metadata": {
        "id": "-s3okBqL96TT"
      },
      "source": [
        "*   **Pregunta 3.**  \n",
        "\n",
        "Busca e imprime todas las palabras que están escritas totalmente en mayúsculas. Cada coincidencia debe ser una sola palabra.\n",
        "\n",
        "Indica cuántas palabras encontraste.\n",
        "\n"
      ]
    },
    {
      "cell_type": "code",
      "execution_count": 16,
      "metadata": {
        "id": "L3q08aq69sNn"
      },
      "outputs": [
        {
          "name": "stdout",
          "output_type": "stream",
          "text": [
            "['I', 'I', 'THAT', 'A', 'I', 'I', 'I', 'I', 'I', 'I', 'I', 'I', 'I', 'I', 'I', 'I', 'APPETIZERS', 'A', 'I', 'I', 'I', 'I', 'I', 'I', 'I', 'WILL', 'NEVER', 'EVER', 'STEP', 'FORWARD', 'IN', 'IT', 'AGAIN', 'I', 'LOVED', 'I', 'AND', 'REAL', 'I', 'I', 'I', 'I', 'BITCHES', 'I', 'I', 'I', 'I', 'NYC', 'I', 'I', 'I', 'I', 'I', 'I', 'I', 'STALE', 'I', 'I', 'DELICIOUS', 'I', 'I', 'I', 'I', 'I', 'I', 'I', 'I', 'I', 'I', 'I', 'I', 'I', 'I', 'I', 'WORST', 'EXPERIENCE', 'EVER', 'I', 'ALL', 'I', 'BARGAIN', 'I', 'TV', 'NONE', 'I', 'M', 'FREEZING', 'AYCE', 'I', 'I', 'I', 'I', 'I', 'I', 'I', 'I', 'I', 'I', 'I', 'I', 'I', 'FLAVOR', 'I', 'I', 'I', 'I', 'I', 'I', 'I', 'I', 'I', 'I', 'I', 'I', 'I', 'I', 'I', 'I', 'I', 'I', 'NEVER', 'I', 'I', 'I', 'I', 'BBQ', 'I', 'A', 'I', 'UNREAL', 'I', 'I', 'I', 'I', 'I', 'I', 'OMG', 'I', 'BETTER', 'I', 'I', 'BLAND', 'I', 'I', 'I', 'I', 'I', 'I', 'I', 'RUDE', 'INCONSIDERATE', 'MANAGEMENT', 'I', 'I', 'WILL', 'NEVER', 'EVER', 'GO', 'BACK', 'AND', 'HAVE', 'TOLD', 'MANY', 'PEOPLE', 'WHAT', 'HAD', 'HAPPENED', 'I', 'I', 'I', 'I', 'I', 'I', 'I', 'I', 'I', 'I', 'I', 'I', 'I', 'TOTAL', 'WASTE', 'OF', 'TIME', 'I', 'I', 'I', 'I', 'I', 'I', 'I', 'I', 'I', 'I', 'I', 'I', 'I', 'I', 'I', 'FS', 'I', 'I', 'I', 'I', 'I', 'I', 'I', 'I', 'I', 'AZ', 'I', 'I', 'I', 'I', 'LOVED', 'I', 'I', 'I', 'I', 'I', 'I', 'CONCLUSION', 'I', 'I', 'I', 'I', 'I', 'I', 'BEST', 'I', 'GO', 'NOW', 'A', 'I', 'I', 'GC', 'I', 'I', 'I', 'I', 'I', 'I', 'I', 'I', 'I', 'I', 'I', 'AVOID', 'THIS', 'ESTABLISHMENT', 'I', 'I', 'I', 'A', 'I', 'I', 'AN', 'HOUR', 'I', 'I', 'I', 'I', 'I', 'I', 'I', 'I', 'NASTY', 'OMG', 'I', 'I', 'NO', 'I', 'I', 'I', 'BEST', 'I', 'I', 'I', 'I', 'THE', 'OWNERS', 'REALLY', 'REALLY', 'I', 'I', 'I', 'I', 'I', 'I', 'I', 'I', 'I', 'I', 'I', 'I', 'PERFECT', 'SCREAMS', 'LEGIT', 'I', 'MGM', 'I', 'I', 'I', 'A', 'I', 'I', 'I', 'I', 'I', 'I', 'I', 'I', 'I', 'I', 'I', 'I', 'BEST', 'I', 'I', 'T', 'A', 'FLY', 'A', 'FLY', 'I', 'I', 'I', 'I', 'I', 'I', 'I', 'I', 'I', 'I', 'I', 'I', 'FANTASTIC', 'I', 'I', 'I', 'I', 'GREAT', 'OK', 'I', 'I', 'WAY', 'I', 'I', 'MUST', 'HAVE', 'I', 'I', 'I', 'I', 'I', 'I', 'OK', 'I', 'I', 'I', 'I', 'OVERPRICED', 'I', 'I', 'I', 'I', 'I', 'I', 'I', 'I', 'I', 'I', 'I', 'I', 'I', 'I', 'I', 'I', 'I', 'I', 'I', 'I', 'I', 'I', 'I', 'I', 'I', 'BARE', 'HANDS', 'I', 'I', 'I', 'I', 'I', 'I', 'I', 'I', 'I', 'I', 'I', 'I', 'I', 'I', 'I', 'WEAK', 'I', 'I', 'I', 'I', 'I', 'I', 'I', 'I', 'SHOULD', 'I', 'I', 'I', 'RI', 'I', 'I', 'I', 'I', 'I', 'I', 'I', 'VERY', 'I', 'I', 'I', 'NOT', 'I', 'I', 'I', 'I', 'I', 'I', 'I', 'I', 'I', 'I', 'I', 'I', 'I', 'I', 'I', 'I', 'I', 'I', 'A', 'I', 'I', 'I', 'I', 'I', 'I']\n",
            "Hay 455 resultados\n"
          ]
        }
      ],
      "source": [
        "patron_2 = r\"\\b[A-Z]+\\b\"\n",
        "matching_words(docs, patron_2)"
      ]
    },
    {
      "cell_type": "markdown",
      "metadata": {
        "id": "GX8eYyDoMZma"
      },
      "source": [
        "*   **Pregunta 4.**  \n",
        "\n",
        "Busca e imprime los comentarios en donde todos los caracteres alfabéticos (letras) están en mayúsculas. \n",
        "\n",
        "Cada coincidencia encontrada debe ser todo el comentario/enunciado.\n",
        "\n",
        "Indica cuántos resultados obtuviste.\n"
      ]
    },
    {
      "cell_type": "code",
      "execution_count": 17,
      "metadata": {
        "id": "PmKgX7sCMcDx"
      },
      "outputs": [
        {
          "name": "stdout",
          "output_type": "stream",
          "text": [
            "['DELICIOUS!!', 'RUDE & INCONSIDERATE MANAGEMENT.', 'WILL NEVER EVER GO BACK AND HAVE TOLD MANY PEOPLE WHAT HAD HAPPENED.', 'TOTAL WASTE OF TIME.', 'AVOID THIS ESTABLISHMENT!']\n",
            "Hay 5 resultados\n"
          ]
        }
      ],
      "source": [
        "patron_3 = r\"^[^a-z]*[A-Z]+[^a-z]*$\"\n",
        "mayusculas = matching_words(docs, patron_3)"
      ]
    },
    {
      "cell_type": "markdown",
      "metadata": {
        "id": "a1i6qv7-McmU"
      },
      "source": [
        "*   **Pregunta 5.**  \n",
        "\n",
        "Busca e imprime todas las palabras que tengan una vocal acentuada, del tipo á, é, í, ó, ú. \n",
        "\n",
        "Indica cuántos resultados obtuviste."
      ]
    },
    {
      "cell_type": "code",
      "execution_count": 35,
      "metadata": {
        "id": "l1mFvUEZMe8s"
      },
      "outputs": [
        {
          "name": "stdout",
          "output_type": "stream",
          "text": [
            "['fiancé', 'Café', 'puréed']\n",
            "Hay 3 resultados\n"
          ]
        }
      ],
      "source": [
        "patron_4 = r\"\\b\\w*[áéíóú]\\w*\\b\"\n",
        "matching_words(docs, patron_4)"
      ]
    },
    {
      "cell_type": "markdown",
      "metadata": {
        "id": "ZmPiAI82Mfb3"
      },
      "source": [
        "*   **Pregunta 6.**  \n",
        "\n",
        "Busca e imprime todas las cantidades numéricas monetarias, enteras o con decimales, que inician con el símbolo $\\$$. \n",
        "\n",
        "Indica cuántos resultados obtuviste."
      ]
    },
    {
      "cell_type": "code",
      "execution_count": 38,
      "metadata": {
        "id": "_t0a5xWDMhQ5"
      },
      "outputs": [
        {
          "name": "stdout",
          "output_type": "stream",
          "text": [
            "['$20', '$4.00', '$17', '$3', '$35', '$7.85', '$12', '$11.99']\n",
            "Hay 8 resultados\n"
          ]
        }
      ],
      "source": [
        "patron_5 = r\"\\$\\d+(?:\\.\\d+)?\"\n",
        "matching_words(docs, patron_5)"
      ]
    },
    {
      "cell_type": "markdown",
      "metadata": {
        "id": "2j-HpvhwMhq2"
      },
      "source": [
        "*   **Pregunta 7.**  \n",
        "\n",
        "Busca e imprime todas las palabras que sean variantes de la palabra \"love\", sin importar si incluyen mayúsculas o minúsculas, o la manera en que esté conjugada o alguna otra variación que se haga con dicha palabra.\n",
        "\n",
        "Indica cuántos resultados obtuviste."
      ]
    },
    {
      "cell_type": "code",
      "execution_count": 39,
      "metadata": {
        "id": "UXd0VQluMj_x"
      },
      "outputs": [
        {
          "name": "stdout",
          "output_type": "stream",
          "text": [
            "['Loved', 'loved', 'Loved', 'love', 'loves', 'LOVED', 'lovers', 'love', 'lovers', 'Love', 'loved', 'loved', 'love', 'love', 'love', 'loved', 'love', 'loved', 'Love', 'LOVED', 'love', 'lovely', 'love', 'lovely', 'love', 'lover', 'loved', 'love', 'love', 'love', 'love', 'love', 'love', 'love', 'love']\n",
            "Hay 35 resultados\n"
          ]
        }
      ],
      "source": [
        "patron_6 = r\"\\b[lL][oO][vV][eE][\\w']*\\b\"\n",
        "matching_words(docs, patron_6)"
      ]
    },
    {
      "cell_type": "markdown",
      "metadata": {
        "id": "Ctb-NTY3MkYG"
      },
      "source": [
        "*   **Pregunta 8.**  \n",
        "\n",
        "Busca e imprime todas las palabras, variantes de \"so\" y \"good\", que tengan dos o más \"o\" en \"so\" y 3 o más \"o\" en good. \n",
        "\n",
        "Indica cuántas encontraste.\n"
      ]
    },
    {
      "cell_type": "code",
      "execution_count": 40,
      "metadata": {
        "id": "svS4-vvPMl6f"
      },
      "outputs": [
        {
          "name": "stdout",
          "output_type": "stream",
          "text": [
            "['Sooooo', 'soon', 'soooo', 'soon', 'soon', 'gooodd', 'soon', 'soon', 'soooooo', 'soon', 'soon', 'soooo', 'soon', 'soon']\n",
            "Hay 14 resultados\n"
          ]
        }
      ],
      "source": [
        "patron_7 = r\"\\b[sS][oO]{2,}[\\w']*\\b|\\b[gG][oO]{3,}[dD][\\w']*\\b\"\n",
        "matching_words(docs, patron_7)"
      ]
    },
    {
      "cell_type": "markdown",
      "metadata": {
        "id": "hkak1opjMmlk"
      },
      "source": [
        "*   **Pregunta 9.**  \n",
        "\n",
        "Busca e imprime todas las palabras que tengan una longitud mayor estrictamente a 10 caracteres alfabéticos.\n",
        "\n",
        "No se consideran los signos de puntuación o caracteres especiales en la longitud de estas cadenas, solo caracteres alfabéticos en mayúsculas o minúsculas.\n",
        "\n",
        "Indica la cantidad de palabras encontradas.\n"
      ]
    },
    {
      "cell_type": "code",
      "execution_count": 42,
      "metadata": {
        "id": "BR7e2F4FMof-"
      },
      "outputs": [
        {
          "name": "stdout",
          "output_type": "stream",
          "text": [
            "['recommendation', 'recommended', 'overwhelmed', 'inexpensive', 'establishment', 'imaginative', 'opportunity', 'experiencing', 'underwhelming', 'relationship', 'unsatisfying', 'disappointing', 'outrageously', 'disappointing', 'expectations', 'restaurants', 'suggestions', 'disappointed', 'considering', 'Unfortunately', 'immediately', 'ingredients', 'accommodations', 'maintaining', 'Interesting', 'disrespected', 'accordingly', 'unbelievable', 'cheeseburger', 'descriptions', 'inexpensive', 'disappointed', 'Veggitarian', 'outstanding', 'recommendation', 'disappointed', 'disappointed', 'neighborhood', 'disappointed', 'corporation', 'considering', 'exceptional', 'shawarrrrrrma', 'disappointed', 'vinaigrette', 'immediately', 'unbelievably', 'replenished', 'disappointed', 'enthusiastic', 'Outstanding', 'comfortable', 'interesting', 'INCONSIDERATE', 'considering', 'transcendant', 'disappointment', 'disappointed', 'disappointed', 'overwhelmed', 'professional', 'Furthermore', 'combination', 'connoisseur', 'profiterole', 'outstanding', 'acknowledged', 'ventilation', 'beautifully', 'establishment', 'extraordinary', 'disappointed', 'cheesecurds', 'disappointed', 'interesting', 'experienced', 'opportunity', 'disgraceful', 'restaurants', 'ESTABLISHMENT', 'recommended', 'disappointed', 'recommended', 'acknowledged', 'presentation', 'Philadelphia', 'disappointed', 'disappointing', 'grandmother', 'drastically', 'informative', 'Disappointed', 'constructed', 'comfortable', 'Smashburger', 'cheeseburger', 'neighborhood', 'disappointed', 'hospitality', 'recommending', 'disappointed', 'deliciously', 'compliments', 'recommendation', 'establishment', 'calligraphy', 'traditional', 'combination', 'Unfortunately', 'Wienerschnitzel', 'unfortunately', 'considering', 'highlighted', 'Mediterranean', 'unprofessional', 'anticipated', 'disappointing', 'unexperienced', 'disrespected', 'professional', 'restaurants', 'Disappointing', 'WAAAAAAyyyyyyyyyy', 'reservation', 'imagination', 'undercooked', 'disappointed', 'disappointment', 'disappointment', 'deuchebaggery', 'disappointed', 'disappointment', 'immediately', 'Unfortunately', 'disapppointment', 'circumstances', 'undercooked', 'caterpillar', 'presentation', 'disappointed', 'underwhelming']\n",
            "Hay 141 resultados\n"
          ]
        }
      ],
      "source": [
        "patron_8 = r\"\\b[a-zA-Z]{11,}\\b\"\n",
        "matching_words(docs, patron_8)"
      ]
    },
    {
      "cell_type": "markdown",
      "metadata": {
        "id": "ApjTNzSxMpDc"
      },
      "source": [
        "*   **Pregunta 10.**  \n",
        "\n",
        "Busca e imprime todas las palabras que inician con una letra mayúscula y terminan con una minúscula, pero que además no sea la primera palabra del comentario/string. \n",
        "\n",
        "Indica la cantidad de resultados obtenidos."
      ]
    },
    {
      "cell_type": "code",
      "execution_count": 45,
      "metadata": {
        "id": "dLPTRPnTMqqx"
      },
      "outputs": [
        {
          "name": "stdout",
          "output_type": "stream",
          "text": [
            "['Loved', 'May', 'Rick', 'Steve', 'Cape', 'Cod', 'This', 'Vegas', 'Burrittos', 'Blah', 'The', 'The', 'They', 'This', 'Mexican', 'Took', 'Luke', 'Our', 'Also', 'Overall', 'Poor', 'Hiro', 'On', 'Frozen', 'The', 'Firehouse', 'My', 'Greek', 'Greek', 'They', 'Loved', 'Heart', 'Attack', 'Grill', 'Vegas', 'The', 'The', 'Great', 'Dos', 'Gringos', 'The', 'Jeff', 'Really', 'It', 'Excalibur', 'Very', 'Bad', 'Customer', 'Service', 'Vegas', 'Rice', 'Company', 'Pho', 'In', 'It', 'Never', 'Hard', 'Rock', 'Casino', 'On', 'Our', 'The', 'Best', 'Buffet', 'Tigerlilly', 'The', 'Yama', 'At', 'Thai', 'Nice', 'Although', 'Indian', 'Worst', 'The', 'We', 'Host', 'Not', 'Phenomenal', 'Definitely', 'Vegas', 'They', 'Delicious', 'Lox', 'Great', 'Subway', 'Subway', 'Vegas', 'He', 'Vegas', 'The', 'The', 'Mandalay', 'Bay', 'Great', 'Voodoo', 'Unfortunately', 'Their', 'Phoenix', 'This', 'Vegas', 'Lordy', 'Khao', 'Soi', 'Perhaps', 'The', 'Not', 'The', 'Love', 'Lemon', 'The', 'Also', 'When', 'Joey', 'Valley', 'Phoenix', 'Magazine', 'Pho', 'Fridays', 'The', 'If', 'For', 'Tasty', 'Jamaican', 'The', 'Lobster', 'Bisque', 'Bussell', 'Sprouts', 'Risotto', 'Filet', 'It', 'Otto', 'As', 'If', 'Ordered', 'Yeah', 'If', 'The', 'Honestly', 'Not', 'Everyone', 'It', 'Also', 'Drinks', 'Seriously', 'Vegas', 'Greek', 'Overall', 'Vegas', 'Good', 'Plus', 'The', 'Thus', 'For', 'Veggitarian', 'Stopped', 'Madison', 'Ironman', 'Jenni', 'Pho', 'Bachi', 'Burger', 'This', 'Pizza', 'Salads', 'They', 'Yelpers', 'The', 'You', 'Bachi', 'Service', 'Will', 'As', 'In', 'English', 'Great', 'By', 'Back', 'And', 'Also', 'They', 'Pizza', 'Hut', 'Both', 'We', 'Seat', 'The', 'Gold', 'Standard', 'Of', 'Thai', 'Tucson', 'Vegas', 'This', 'Chipotle', 'Classy', 'Baseball', 'On', 'Sadly', 'Gordon', 'Ramsey', 'Steak', 'Vegas', 'The', 'Outstanding', 'Best', 'Food', 'Lobster', 'Bisque', 'Vegas', 'The', 'The', 'They', 'Eggplant', 'Green', 'Bean', 'In', 'The', 'Halibut', 'Vegas', 'If', 'Vegas', 'Vegas', 'Crystals', 'Aria', 'To', 'Ians', 'Overall', 'Bouchon', 'Great', 'San', 'Francisco', 'Bay', 'Area', 'Buldogis', 'Gourmet', 'Hot', 'Dog', 'Come', 'For', 'Our', 'On', 'Furthermore', 'Strike', 'Steiners', 'If', 'Anyway', 'Not', 'The', 'The', 'Carly', 'This', 'Love', 'Vegas', 'Very', 'Total', 'Camelback', 'Flower', 'Shop', 'Cartel', 'Coffee', 'Third', 'This', 'Las', 'Vegas', 'This', 'It', 'Worse', 'Bunch', 'Very', 'This', 'Mom', 'Noca', 'Give', 'At', 'Anyway', 'Point', 'Oh', 'Similarly', 'Be', 'The', 'Vegas', 'Sat', 'Sun', 'If', 'Mexican', 'Frenchman', 'Great', 'No', 'Perfect', 'Vegas', 'However', 'Palm', 'The', 'Are', 'This', 'He', 'The', 'As', 'If', 'Thai', 'All', 'My', 'Toast', 'Thai', 'It', 'Phoenix', 'Crema', 'Philadelphia', 'We', 'Good', 'North', 'Scottsdale', 'The', 'Sorry', 'Bloody', 'Mary', 'Despite', 'Pho', 'The', 'Same', 'Caesar', 'After', 'Macarons', 'Our', 'Experience', 'Very', 'Disappointed', 'Big', 'Bay', 'Plater', 'Not', 'Italian', 'That', 'Vegas', 'Baba', 'Ganoush', 'Very', 'The', 'Nobu', 'Smashburger', 'Panna', 'Cotta', 'Very', 'Prices', 'The', 'Good', 'Hawaiian', 'Breeze', 'Mango', 'Magic', 'Pineapple', 'Delight', 'We', 'Needless', 'Anyways', 'The', 'The', 'Strip', 'Steak', 'Paradise', 'Valley', 'Cibo', 'Service', 'That', 'Thumbs', 'Up', 'Italian', 'Pros', 'Large', 'Nice', 'Great', 'The', 'Elk', 'Filet', 'After', 'Cute', 'The', 'Dylan', 'All', 'One', 'Han', 'Nan', 'Chicken', 'As', 'The', 'Bar', 'Edinburgh', 'Chinese', 'Overall', 'Indian', 'Probably', 'Friend', 'Try', 'Chinese', 'When', 'The', 'Level', 'Main', 'When', 'Food', 'Prices', 'The', 'Phoenix', 'It', 'Both', 'Hot', 'Sour', 'Egg', 'Flower', 'Soups', 'Stars', 'Sunday', 'Hunan', 'What', 'The', 'Unfortunately', 'Perfect', 'The', 'The', 'Great', 'Pita', 'Wienerschnitzel', 'Maine', 'Lobster', 'Roll', 'My', 'The', 'Lastly', 'The', 'This', 'Kabuki', 'Best', 'Maria', 'Caballero', 'In', 'To', 'Bad', 'The', 'Wife', 'Went', 'This', 'Hot', 'Everything', 'They', 'For', 'Strip', 'The', 'Costco', 'All', 'To', 'Place', 'Gyros', 'Japanese', 'Now', 'The', 'Albondigas', 'On', 'After', 'No', 'Mediterranean', 'Chicken', 'Salad', 'Mellow', 'Mushroom', 'Thai', 'Vegas', 'Overall', 'Mmmm', 'Buffet', 'Bellagio', 'And', 'My', 'Also', 'Vegas', 'Very', 'How', 'There', 'What', 'Christmas', 'Eve', 'Needless', 'Every', 'However', 'It', 'The', 'Denny', 'If', 'The', 'The', 'The', 'The', 'It', 'Maybe', 'Vegetarian', 'The', 'The', 'Then', 'Insults', 'Taco', 'Unfortunately', 'Your', 'Heimer', 'All', 'Ha', 'Long', 'Bay', 'Subway', 'When', 'Brushfire', 'It', 'Mirage', 'In', 'The', 'Ninja', 'Sushi', 'Then']\n",
            "Hay 517 resultados\n"
          ]
        }
      ],
      "source": [
        "patron_9 = r\"(?<!^)\\b[A-Z][a-z]*[a-z]\\b\"\n",
        "matching_words(docs, patron_9)"
      ]
    },
    {
      "cell_type": "markdown",
      "metadata": {
        "id": "u7nfm4KhMrNW"
      },
      "source": [
        "*   **Pregunta 11.**  \n",
        "\n",
        "Busca e imprime la secuencia de dos o más palabras que están separadas por un guion, \"-\", sin que tengan espacios en blanco entre ellas.\n",
        "\n",
        "Por ejemplo \"Go-Kart\" sería válido, pero \"Go  -Kart\" o \"Go  -  Kart\" no lo serían. \n",
        "\n",
        "Indica la cantidad de resultados obtenidos."
      ]
    },
    {
      "cell_type": "code",
      "execution_count": 43,
      "metadata": {
        "id": "OwU-a7eGMsub"
      },
      "outputs": [
        {
          "name": "stdout",
          "output_type": "stream",
          "text": [
            "['flat-lined', 'hands-down', 'must-stop', 'sub-par', 'Service-check', 'in-house', 'been-stepped', 'in-and', 'tracked-everywhere', 'multi-grain', 'to-go', 'non-customer', 'High-quality', 'sit-down', 'over-whelm', 'low-key', 'non-fancy', 'golden-crispy', 'over-priced', 'over-hip', 'under-services']\n",
            "Hay 21 resultados\n"
          ]
        }
      ],
      "source": [
        "patron_10 = r\"\\b\\w+-\\w+\\b\"\n",
        "matching_words(docs, patron_10)"
      ]
    },
    {
      "cell_type": "markdown",
      "metadata": {
        "id": "DEIgl79HMthr"
      },
      "source": [
        "*   **Pregunta 12.**  \n",
        "\n",
        "Busca e imprime todas las palabras que terminan en \"ing\" o \"ed\". \n",
        "\n",
        "Indica la cantidad de palabras que encontraste de cada una."
      ]
    },
    {
      "cell_type": "code",
      "execution_count": 44,
      "metadata": {
        "id": "AhGq6De2Mvyh"
      },
      "outputs": [
        {
          "name": "stdout",
          "output_type": "stream",
          "text": [
            "['ed', 'ed', 'ing', 'ed', 'ing', 'ing', 'ed', 'ing', 'ed', 'ed', 'ed', 'ed', 'ed', 'ing', 'ed', 'ed', 'ed', 'ing', 'ed', 'ing', 'ed', 'ed', 'ing', 'ed', 'ing', 'ed', 'ing', 'ing', 'ed', 'ing', 'ed', 'ed', 'ed', 'ed', 'ed', 'ed', 'ed', 'ing', 'ed', 'ed', 'ing', 'ing', 'ed', 'ed', 'ing', 'ing', 'ing', 'ing', 'ing', 'ing', 'ed', 'ed', 'ing', 'ing', 'ed', 'ing', 'ing', 'ing', 'ing', 'ing', 'ing', 'ing', 'ed', 'ed', 'ed', 'ing', 'ing', 'ed', 'ing', 'ed', 'ing', 'ing', 'ed', 'ing', 'ed', 'ed', 'ing', 'ing', 'ing', 'ing', 'ing', 'ed', 'ing', 'ing', 'ed', 'ed', 'ed', 'ed', 'ing', 'ing', 'ing', 'ed', 'ing', 'ed', 'ed', 'ed', 'ed', 'ed', 'ed', 'ing', 'ing', 'ed', 'ed', 'ed', 'ed', 'ed', 'ing', 'ed', 'ed', 'ing', 'ing', 'ed', 'ed', 'ed', 'ed', 'ing', 'ed', 'ing', 'ing', 'ed', 'ed', 'ing', 'ing', 'ed', 'ed', 'ed', 'ing', 'ed', 'ed', 'ing', 'ing', 'ed', 'ed', 'ed', 'ed', 'ed', 'ing', 'ed', 'ing', 'ed', 'ing', 'ing', 'ed', 'ed', 'ed', 'ed', 'ing', 'ed', 'ing', 'ed', 'ed', 'ed', 'ed', 'ing', 'ing', 'ed', 'ing', 'ed', 'ing', 'ing', 'ed', 'ing', 'ed', 'ed', 'ed', 'ing', 'ing', 'ing', 'ed', 'ing', 'ed', 'ing', 'ed', 'ed', 'ing', 'ed', 'ed', 'ing', 'ing', 'ing', 'ed', 'ed', 'ing', 'ing', 'ed', 'ing', 'ing', 'ing', 'ing', 'ed', 'ed', 'ed', 'ed', 'ed', 'ed', 'ed', 'ing', 'ing', 'ed', 'ed', 'ed', 'ed', 'ed', 'ing', 'ed', 'ed', 'ed', 'ed', 'ed', 'ing', 'ing', 'ing', 'ing', 'ing', 'ed', 'ing', 'ed', 'ing', 'ed', 'ed', 'ed', 'ing', 'ed', 'ing', 'ing', 'ing', 'ed', 'ing', 'ed', 'ed', 'ed', 'ing', 'ed', 'ed', 'ing', 'ing', 'ing', 'ed', 'ing', 'ing', 'ed', 'ing', 'ed', 'ing', 'ing', 'ing', 'ing', 'ed', 'ing', 'ed', 'ing', 'ing', 'ing', 'ed', 'ing', 'ing', 'ing', 'ed', 'ed', 'ing', 'ed', 'ing', 'ing', 'ed', 'ed', 'ing', 'ed', 'ed', 'ed', 'ed', 'ed', 'ing', 'ed', 'ed', 'ing', 'ing', 'ed', 'ed', 'ed', 'ing', 'ed', 'ed', 'ed', 'ed', 'ed', 'ed', 'ed', 'ing', 'ed', 'ing', 'ed', 'ed', 'ed', 'ed', 'ed', 'ing', 'ing', 'ed', 'ing', 'ing', 'ed', 'ed', 'ed', 'ed', 'ed', 'ing', 'ing', 'ing', 'ing', 'ed', 'ed', 'ing', 'ed', 'ed', 'ed', 'ed', 'ing', 'ed', 'ing', 'ed', 'ed', 'ed', 'ing', 'ed', 'ing', 'ing', 'ed', 'ing', 'ing', 'ed', 'ed', 'ing', 'ing', 'ed', 'ed', 'ing', 'ing', 'ing', 'ing', 'ed', 'ed', 'ing', 'ing', 'ing', 'ing', 'ing', 'ed', 'ing', 'ed', 'ed', 'ed', 'ed', 'ed', 'ed', 'ed', 'ed', 'ing', 'ed', 'ed', 'ed', 'ed', 'ed', 'ing', 'ed', 'ing', 'ed', 'ed', 'ed', 'ed', 'ed', 'ing', 'ed', 'ing', 'ed', 'ing', 'ed', 'ed', 'ing', 'ed', 'ing', 'ing', 'ed', 'ed', 'ed', 'ing', 'ing', 'ed', 'ing', 'ed', 'ing', 'ing', 'ed', 'ed', 'ed', 'ing', 'ed', 'ing', 'ing', 'ed', 'ing', 'ed', 'ed', 'ed', 'ed', 'ing', 'ing', 'ed', 'ing', 'ing', 'ed', 'ed', 'ed', 'ing', 'ed', 'ing', 'ed', 'ing', 'ing', 'ed', 'ed', 'ing', 'ing', 'ing', 'ed', 'ing', 'ing', 'ed', 'ed', 'ed', 'ing', 'ed', 'ed', 'ing', 'ing', 'ed', 'ing', 'ing', 'ed', 'ing', 'ed', 'ing', 'ing', 'ed', 'ed', 'ed', 'ing', 'ed', 'ed', 'ed', 'ing', 'ed', 'ing', 'ed', 'ing', 'ed', 'ing', 'ing', 'ing', 'ing', 'ing', 'ed', 'ing', 'ed', 'ed', 'ed', 'ing', 'ing', 'ed', 'ing', 'ing', 'ed', 'ing', 'ing', 'ing', 'ed', 'ing', 'ing', 'ing', 'ing', 'ed', 'ing', 'ing', 'ed', 'ed', 'ed', 'ed', 'ed', 'ing', 'ed', 'ing', 'ed', 'ed', 'ing', 'ed', 'ing', 'ed', 'ed', 'ing', 'ed', 'ed', 'ing', 'ed', 'ed', 'ing', 'ed', 'ed', 'ed', 'ing', 'ing', 'ing', 'ed', 'ing', 'ed', 'ing', 'ing', 'ed', 'ing', 'ing', 'ed', 'ing', 'ing', 'ing', 'ed', 'ing', 'ed', 'ing', 'ed', 'ing', 'ed', 'ed', 'ed', 'ed', 'ed', 'ed', 'ing', 'ing', 'ed', 'ing', 'ed', 'ing', 'ing', 'ing', 'ed', 'ing', 'ed', 'ed', 'ing', 'ed', 'ing', 'ed', 'ing', 'ing', 'ing', 'ing', 'ing', 'ing', 'ing', 'ing', 'ed', 'ing', 'ed', 'ing', 'ing', 'ed', 'ing', 'ed', 'ed', 'ing', 'ing', 'ed', 'ing', 'ed', 'ed', 'ed', 'ed', 'ed', 'ing', 'ed', 'ing', 'ing', 'ing', 'ed', 'ed', 'ed', 'ed', 'ed', 'ing', 'ed', 'ed', 'ing', 'ed', 'ed', 'ed', 'ing', 'ed', 'ing', 'ed', 'ing', 'ed', 'ed', 'ed', 'ed', 'ed', 'ing', 'ed', 'ed', 'ed', 'ing', 'ed', 'ing', 'ed', 'ed', 'ing', 'ing']\n",
            "Hay 614 resultados\n"
          ]
        }
      ],
      "source": [
        "patron_11 = r\"\\b\\w+(ing|ed)\\b\"\n",
        "matching_words(docs, patron_11)"
      ]
    },
    {
      "cell_type": "markdown",
      "metadata": {
        "id": "70StdqAZa9E9"
      },
      "source": [
        "#**Parte 3. Proceso de limpieza.**"
      ]
    },
    {
      "cell_type": "markdown",
      "metadata": {
        "id": "xaDUFXHrMvX2"
      },
      "source": [
        "*   **Pregunta 13.**  \n",
        "\n",
        "Ahora realiza un proceso de limpieza del corpus que incluya los siguientes procesos:\n",
        "\n",
        "*   Solo se deben considerar caracteres alfabéticos. Es decir, se eliminan todos los signos de puntuación y caracteres especiales.\n",
        "*   Todos los caracteres alfabéticos se transforman a minúsculas.\n",
        "*   Se deben eliminar todos los espacios en blanco adicionales que se puedan encontrar en cada comentario.\n",
        "\n",
        "Al finalizar dicho proceso de limpieza, imprime el resultado de los primeros 10 comentarios resultantes. \n",
        "   \n",
        "\n",
        "\n"
      ]
    },
    {
      "cell_type": "code",
      "execution_count": 46,
      "metadata": {
        "id": "K3kQzPOPMx0w"
      },
      "outputs": [],
      "source": [
        "docs_limpio = []\n",
        "for line in docs:\n",
        "    # Eliminar signos de puntuación y caracteres especiales\n",
        "    line = ''.join(e for e in line if e.isalpha() or e.isspace())\n",
        "    # Convertir todos los caracteres alfabéticos a minúsculas\n",
        "    line = line.lower()\n",
        "    docs_limpio.append(line)"
      ]
    },
    {
      "cell_type": "code",
      "execution_count": 47,
      "metadata": {
        "id": "mYEDlHSFMyJN"
      },
      "outputs": [
        {
          "data": {
            "text/plain": [
              "['wow loved this place',\n",
              " 'crust is not good',\n",
              " 'not tasty and the texture was just nasty',\n",
              " 'stopped by during the late may bank holiday off rick steve recommendation and loved it',\n",
              " 'the selection on the menu was great and so were the prices',\n",
              " 'now i am getting angry and i want my damn pho',\n",
              " 'honeslty it didnt taste that fresh',\n",
              " 'the potatoes were like rubber and you could tell they had been made up ahead of time being kept under a warmer',\n",
              " 'the fries were great too',\n",
              " 'a great touch']"
            ]
          },
          "execution_count": 47,
          "metadata": {},
          "output_type": "execute_result"
        }
      ],
      "source": [
        "docs_limpio[0:10]"
      ]
    },
    {
      "cell_type": "markdown",
      "metadata": {
        "id": "WZwEhg2lUSAX"
      },
      "source": [
        "*   **Pregunta 14.**  \n",
        "\n",
        "Con el resultado de la limpieza obtenido en la pregunta anterior, realiza ahora un proceso de tokenización por palabras del corpus. \n",
        "\n",
        "Es decir, al final de este proceso de tokenización, debes tener como resultado una lista de listas, donde cada comentario estará tokenizado por palabras.\n",
        "\n",
        "Al terminar calcula el total de tokens obtenido en todo el corpus. "
      ]
    },
    {
      "cell_type": "code",
      "execution_count": 48,
      "metadata": {
        "id": "kbAL9-v0V-jx"
      },
      "outputs": [
        {
          "name": "stdout",
          "output_type": "stream",
          "text": [
            "Tokens:  [['wow', 'loved', 'this', 'place'], ['crust', 'is', 'not', 'good'], ['not', 'tasty', 'and', 'the', 'texture', 'was', 'just', 'nasty'], ['stopped', 'by', 'during', 'the', 'late', 'may', 'bank', 'holiday', 'off', 'rick', 'steve', 'recommendation', 'and', 'loved', 'it'], ['the', 'selection', 'on', 'the', 'menu', 'was', 'great', 'and', 'so', 'were', 'the', 'prices'], ['now', 'i', 'am', 'getting', 'angry', 'and', 'i', 'want', 'my', 'damn', 'pho'], ['honeslty', 'it', 'didnt', 'taste', 'that', 'fresh'], ['the', 'potatoes', 'were', 'like', 'rubber', 'and', 'you', 'could', 'tell', 'they', 'had', 'been', 'made', 'up', 'ahead', 'of', 'time', 'being', 'kept', 'under', 'a', 'warmer'], ['the', 'fries', 'were', 'great', 'too'], ['a', 'great', 'touch']]\n",
            "Número total de tokens:  10777\n"
          ]
        }
      ],
      "source": [
        "docs_tokenizado = [comentario.split() for comentario in docs_limpio]\n",
        "\n",
        "# Cálculo del número total de tokens\n",
        "num_tokens = sum(len(lista_palabras) for lista_palabras in docs_tokenizado)\n",
        "\n",
        "print(\"Tokens: \", docs_tokenizado[0:10])\n",
        "print(\"Número total de tokens: \", num_tokens)"
      ]
    },
    {
      "cell_type": "markdown",
      "metadata": {
        "id": "EFeu0OJ7WDPD"
      },
      "source": [
        "*   **Pregunta 15.**  \n",
        "\n",
        "Finalmente, en este ejercicio definiremos nuestro conjunto de palabras \"stopwords\", las cuales deberás eliminar de todo el corpus. \n",
        "\n",
        "Recuerda que ejemplos de stopwords son artículos, adverbios, conectivos, etcétera, que tienen frecuencias de aparición muy altas en cualquier documento, pero que no brindan mucho significado en cuanto al significado de un enunciado.\n",
        "\n",
        "Con base a la lista de stopwords que se te proporciona, realiza un proceso de limpieza eliminando todas estas palabras del corpus obtenido en el ejercicio anterior.\n",
        "\n",
        "Obtener cuántos tokens/palabras quedan finalmente en todo el corpus.\n",
        "\n",
        "Obtener cuántos de estos tokens/palabras son diferentes, es decir, cuántos tokens únicos tendrá lo que llamaremos más adelante nuestro vocabulario."
      ]
    },
    {
      "cell_type": "code",
      "execution_count": 50,
      "metadata": {
        "id": "6FP4FF3KXGxm"
      },
      "outputs": [],
      "source": [
        "# Considera la siguiente lista como tu conjunto de stopwords:\n",
        "mis_stopwords = ['i', 'me', 'my', 'myself', 'we', 'our', 'ours', 'ourselves', 'you', 'your', 'yours', 'he', 'him', 'his', 'himself', 'she', 'her', 'hers', 'herself', 'it', 'its', 'itself', 'they', 'them', 'their', 'theirs', 'themselves', 'what', 'which', 'who', 'whom', 'this', 'that', 'these', 'those', 'am', 'is', 'are', 'was', 'were', 'be', 'been', 'being', 'have', 'has', 'had', 'having', 'do', 'does', 'did', 'doing', 'a', 'an', 'the', 'and', 'but', 'if', 'or', 'because', 'as', 'until', 'while', 'of', 'at', 'by', 'for', 'with', 'about', 'against', 'between', 'into', 'through', 'during', 'before', 'after', 'above', 'below', 'to', 'from', 'up', 'down', 'in', 'out', 'on', 'over', 'under', 'again', 'further', 'then', 'once', 'here', 'there', 'when', 'where', 'why', 'how', 'all', 'any', 'both', 'each', 'few', 'more', 'most', 'other', 'some', 'such', 'only', 'own', 'same', 'so', 'than', 'too', 'very', 's', 't', 'can', 'will', 'just', 'should', 'now', 'll']"
      ]
    },
    {
      "cell_type": "code",
      "execution_count": 51,
      "metadata": {
        "id": "CD8yjyq1ZrwY"
      },
      "outputs": [],
      "source": [
        "docs_limpio_sin_stopwords = [[palabra for palabra in comentario if palabra not in mis_stopwords] for comentario in docs_tokenizado]\n",
        "total_tokens_sin_stopwords = sum([len(comentario) for comentario in docs_limpio_sin_stopwords])"
      ]
    },
    {
      "cell_type": "code",
      "execution_count": 52,
      "metadata": {
        "id": "4ZPi5prKZro5"
      },
      "outputs": [
        {
          "name": "stdout",
          "output_type": "stream",
          "text": [
            "Tokens:  [['wow', 'loved', 'place'], ['crust', 'not', 'good'], ['not', 'tasty', 'texture', 'nasty'], ['stopped', 'late', 'may', 'bank', 'holiday', 'off', 'rick', 'steve', 'recommendation', 'loved'], ['selection', 'menu', 'great', 'prices'], ['getting', 'angry', 'want', 'damn', 'pho'], ['honeslty', 'didnt', 'taste', 'fresh'], ['potatoes', 'like', 'rubber', 'could', 'tell', 'made', 'ahead', 'time', 'kept', 'warmer'], ['fries', 'great'], ['great', 'touch']]\n",
            "Número total de tokens:  5776\n",
            "Número total de tokens únicos:  1941\n"
          ]
        }
      ],
      "source": [
        "vocabulario_sin_stopwords = set([palabra for comentario in docs_limpio_sin_stopwords for palabra in comentario])\n",
        "num_tokens_unicos_sin_stopwords = len(vocabulario_sin_stopwords)\n",
        "\n",
        "print(\"Tokens: \", docs_limpio_sin_stopwords[0:10])\n",
        "print(\"Número total de tokens: \", total_tokens_sin_stopwords)\n",
        "print(\"Número total de tokens únicos: \", num_tokens_unicos_sin_stopwords)"
      ]
    },
    {
      "cell_type": "markdown",
      "metadata": {
        "id": "NDbKkuxRbLoX"
      },
      "source": [
        "*   **Comentarios**\n",
        "\n",
        "Incluye finalmente tus comentarios de la actividad."
      ]
    },
    {
      "cell_type": "markdown",
      "metadata": {
        "id": "o7fzbvqVbUGr"
      },
      "source": [
        "En este ejercicio, logramos analizar una lista de comentarios de una plataforma para identificar específicamente las opiniones de los usuarios. Este tipo de análisis es invaluable para cualquier empresa, ya que permite determinar la efectividad de sus servicios o productos. Además, al integrar herramientas de análisis de sentimientos, podemos profundizar aún más y evaluar si, en general, los comentarios son positivos o negativos. Este enfoque holístico no solo destaca las áreas de éxito, sino que también señala oportunidades de mejora, facilitando una toma de decisiones más informada y orientada al cliente."
      ]
    }
  ],
  "metadata": {
    "colab": {
      "collapsed_sections": [
        "759SG4TyfbUn",
        "Zj-h4drXD-X9",
        "BY6yifxscfrx",
        "k_ewoagic5jc",
        "70StdqAZa9E9"
      ],
      "provenance": []
    },
    "kernelspec": {
      "display_name": "env",
      "language": "python",
      "name": "python3"
    },
    "language_info": {
      "codemirror_mode": {
        "name": "ipython",
        "version": 3
      },
      "file_extension": ".py",
      "mimetype": "text/x-python",
      "name": "python",
      "nbconvert_exporter": "python",
      "pygments_lexer": "ipython3",
      "version": "3.11.2"
    }
  },
  "nbformat": 4,
  "nbformat_minor": 0
}
