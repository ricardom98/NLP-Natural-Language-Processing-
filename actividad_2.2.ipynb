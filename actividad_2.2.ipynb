{
  "nbformat": 4,
  "nbformat_minor": 0,
  "metadata": {
    "colab": {
      "provenance": [],
      "collapsed_sections": [
        "iw12p8ExvRW6",
        "XoamJ06OvdNM",
        "PUU-FxSMvob6",
        "gQ9yscOFvye6",
        "XiwHE98R3RZM",
        "IyHCrbj69fFk",
        "OrngEtoyLIUC",
        "Jo45o8tAvlYM",
        "dubz891NTLvV"
      ]
    },
    "kernelspec": {
      "name": "python3",
      "display_name": "Python 3"
    },
    "language_info": {
      "name": "python"
    }
  },
  "cells": [
    {
      "cell_type": "markdown",
      "source": [
        "#**Maestría en Inteligencia Artificial Aplicada (MNA)**\n",
        "##**Procesamiento de Lenguaje Natural (NLP)**\n",
        "###Prof. Luis Eduardo Falcón Morales\n",
        "###**Semana 3 - Ejercicios Complementarios - Parte 2**\n",
        "### Proceso de Tokenización y Vocabulario.\n",
        "\n",
        "###**NOTA: Estos ejercicios son simplemente para que repases los conceptos de esta semana.**\n",
        "###**No es una tarea o actividad que debas entregar.**"
      ],
      "metadata": {
        "id": "QjJeSftN02Th"
      }
    },
    {
      "cell_type": "markdown",
      "source": [
        "##**1 - Ejemplo de Tokenización y preparación/limpieza de documentos**"
      ],
      "metadata": {
        "id": "nWvqt7NW57gB"
      }
    },
    {
      "cell_type": "markdown",
      "source": [
        "De manera general, recuerda que para trabajar con documentos de texto debemos definir nuestras unidades mínimas de información (por ejemplo, las palabras) mediante el proceso llamado de tokenización.\n",
        "\n",
        "Todas las técnicas regex, stemming y lemmatization vistas hasta ahora nos ayudan a simplificar y normalizar documentos de texto de entrada. Un vez hecho esto, se busca extraer la información de estas unidades mínimas de información obtenidas con estas técnicas de tokenización y normalización.\n",
        "\n",
        "Así, una vez sabiendo como tokenizar un documento, se procede a contruir lo que llamaremos el vocabulario y el diccionario de un conjunto de documentos o corpus.\n",
        "\n",
        "Aunque hay variaciones en la forma en que se definen estos conceptos, en general el vocabulario será el conjunto de palabras/tokens que solo serán tomados en cuenta durante el análisis de los documentos. Es decir, solamente estos tokens o palabras son las que existirán para nosotros, todo lo demás se desecha.\n",
        "\n",
        "Por su parte, usaremos el tipo de dato diccionario en Python para asociar a cada palabra con su frecuencia de uso, o bien asociarla a la clase que pertenece en un problema de clasificación.\n",
        "\n",
        "A continuación veremos primero de manera \"manual\" cómo realizar dicho proceso y al final veremos cómo realizar lo mismo con algunas de las librerías existentes."
      ],
      "metadata": {
        "id": "_PzLYQwL52dN"
      }
    },
    {
      "cell_type": "markdown",
      "source": [
        "Veamos este ejemplo muy sencillo para entender la manera en que se construye un vocabulario, un diccionario y la vectorización de los enunciados.\n",
        "\n",
        "Lo iremos haciendo paso a paso para ir explicando cada etapa y vaya quedando claro el significado de cada uno de los conceptos.\n",
        "\n",
        "Supongamos que tenemos la siguiente lista de comentarios en un problema de clasificación, donde cada uno está etiquetado como comentario positivo con un 1, o como comentario negativo con un 0."
      ],
      "metadata": {
        "id": "uBEFNGuV7369"
      }
    },
    {
      "cell_type": "code",
      "source": [
        "docs = [['Muy bien hecho lo hecho.', 1],\n",
        "        ['¡Excelente trabajo muchacho!', 1],\n",
        "        ['Sigue como hasta ahora muchacho.', 1],\n",
        "        ['Lo hiciste muy bien.', 1],\n",
        "        ['¡¡Excelente resultado!!', 1],\n",
        "        ['¡¡¡Pésimo trabajo muchacho!!!', 0],\n",
        "        ['Que mal desempeño.', 0],\n",
        "        ['Muy mal hecho muchacho.', 0],\n",
        "        ['¡Que trabajo tan pobre!', 0],\n",
        "        ['No está bien, nada bien, muchacho.', 0]]"
      ],
      "metadata": {
        "id": "AVTO4V9s7Fek"
      },
      "execution_count": null,
      "outputs": []
    },
    {
      "cell_type": "markdown",
      "source": [
        "##**2 - Limpieza: solo caracteres alfabéticos**"
      ],
      "metadata": {
        "id": "iw12p8ExvRW6"
      }
    },
    {
      "cell_type": "markdown",
      "source": [
        "Por el momento supongamos que solamente nos interesa conservar lo que son caracteres alfabéticos. \n",
        "\n",
        "Entonces podemos proceder como sigue:"
      ],
      "metadata": {
        "id": "mcbYaEv19uMj"
      }
    },
    {
      "cell_type": "code",
      "source": [
        "import re"
      ],
      "metadata": {
        "id": "zlgGNcR59Uv7"
      },
      "execution_count": null,
      "outputs": []
    },
    {
      "cell_type": "code",
      "source": [
        "X = []\n",
        "\n",
        "for doc in docs:\n",
        "  words = re.sub(r'[^a-zA-ZáéíóúüñÁÉÍÓÚÜÑ]', ' ', doc[0])   # Solo consideramos caracteres letras, observa que lo extendemos al español.\n",
        "  words = re.sub(r'\\s{2,}', ' ', words.strip())      # Eliminemos espacios en blanco extras entre palabras o al inicio o final de cada frase.\n",
        "  X.append(words)\n",
        "\n",
        "# Observa el resultado obtenido:\n",
        "X"
      ],
      "metadata": {
        "colab": {
          "base_uri": "https://localhost:8080/"
        },
        "id": "vwp6ap289qC5",
        "outputId": "b4e5b563-f23a-42cb-8085-ac7402623bc2"
      },
      "execution_count": null,
      "outputs": [
        {
          "output_type": "execute_result",
          "data": {
            "text/plain": [
              "['Muy bien hecho lo hecho',\n",
              " 'Excelente trabajo muchacho',\n",
              " 'Sigue como hasta ahora muchacho',\n",
              " 'Lo hiciste muy bien',\n",
              " 'Excelente resultado',\n",
              " 'Pésimo trabajo muchacho',\n",
              " 'Que mal desempeño',\n",
              " 'Muy mal hecho muchacho',\n",
              " 'Que trabajo tan pobre',\n",
              " 'No está bien nada bien muchacho']"
            ]
          },
          "metadata": {},
          "execution_count": 3
        }
      ]
    },
    {
      "cell_type": "code",
      "source": [
        "# Guardemos las etiquetas de cada enunciado en una variable aparte \"y\":\n",
        "\n",
        "y = [t for _,t in docs]\n",
        "\n",
        "y"
      ],
      "metadata": {
        "colab": {
          "base_uri": "https://localhost:8080/"
        },
        "id": "XqalhbeCB32a",
        "outputId": "0e3214a5-bb6f-4af3-f862-842ac3ef2e31"
      },
      "execution_count": null,
      "outputs": [
        {
          "output_type": "execute_result",
          "data": {
            "text/plain": [
              "[1, 1, 1, 1, 1, 0, 0, 0, 0, 0]"
            ]
          },
          "metadata": {},
          "execution_count": 4
        }
      ]
    },
    {
      "cell_type": "markdown",
      "source": [
        "##**3 - Tokenización**"
      ],
      "metadata": {
        "id": "XoamJ06OvdNM"
      }
    },
    {
      "cell_type": "markdown",
      "source": [
        "Ahora podemos pasar a tokenizar cada enunciado. \n",
        "\n",
        "En este ejemplo tokenizemos con respecto a las palabras, como se muestra a continuación y aprovechamos para transformar todo a minúsculas:"
      ],
      "metadata": {
        "id": "0q25drxfMFCJ"
      }
    },
    {
      "cell_type": "code",
      "source": [
        "Xtok = [x.lower().split() for x in X]\n",
        "\n",
        "Xtok"
      ],
      "metadata": {
        "colab": {
          "base_uri": "https://localhost:8080/"
        },
        "id": "a0wp8K5UMD1W",
        "outputId": "11428889-e827-46b2-c0d2-20470696ef2f"
      },
      "execution_count": null,
      "outputs": [
        {
          "output_type": "execute_result",
          "data": {
            "text/plain": [
              "[['muy', 'bien', 'hecho', 'lo', 'hecho'],\n",
              " ['excelente', 'trabajo', 'muchacho'],\n",
              " ['sigue', 'como', 'hasta', 'ahora', 'muchacho'],\n",
              " ['lo', 'hiciste', 'muy', 'bien'],\n",
              " ['excelente', 'resultado'],\n",
              " ['pésimo', 'trabajo', 'muchacho'],\n",
              " ['que', 'mal', 'desempeño'],\n",
              " ['muy', 'mal', 'hecho', 'muchacho'],\n",
              " ['que', 'trabajo', 'tan', 'pobre'],\n",
              " ['no', 'está', 'bien', 'nada', 'bien', 'muchacho']]"
            ]
          },
          "metadata": {},
          "execution_count": 5
        }
      ]
    },
    {
      "cell_type": "markdown",
      "source": [
        "Observa cómo vamos aislando y quedándonos con los tokens (palabras) que estamos considerando nos darán la mayor cantidad de información, en relación al significado de cada frase."
      ],
      "metadata": {
        "id": "FiW_huh3vneR"
      }
    },
    {
      "cell_type": "markdown",
      "source": [
        "##**4 - stopwords**"
      ],
      "metadata": {
        "id": "PUU-FxSMvob6"
      }
    },
    {
      "cell_type": "markdown",
      "source": [
        "\n",
        "\n",
        "Otra de las etapas importantes en el proceso de limpieza y preparación puede ser la eliminación de las stopwords. \n",
        "\n",
        "Supongamos que eliminamos el conjunto de stopwords indicados a continuación:"
      ],
      "metadata": {
        "id": "Zxw_AD8xDiiY"
      }
    },
    {
      "cell_type": "code",
      "source": [
        "mis_stopwords = ['a', 'lo', 'que', 'está', 'hasta', 'el', 'la']\n",
        "\n",
        "Xclean = []\n",
        "\n",
        "for x in Xtok:\n",
        "  for t in x:\n",
        "    if t in mis_stopwords:    \n",
        "      x.remove(t)           # aquellos tokens que estén en los stopwords, las removemos.\n",
        "  Xclean.append(x)\n",
        "\n",
        "Xclean"
      ],
      "metadata": {
        "colab": {
          "base_uri": "https://localhost:8080/"
        },
        "id": "K_1hk3w_O2lr",
        "outputId": "00f47eba-81a2-4e0e-dc3a-3fb587d429f6"
      },
      "execution_count": null,
      "outputs": [
        {
          "output_type": "execute_result",
          "data": {
            "text/plain": [
              "[['muy', 'bien', 'hecho', 'hecho'],\n",
              " ['excelente', 'trabajo', 'muchacho'],\n",
              " ['sigue', 'como', 'ahora', 'muchacho'],\n",
              " ['hiciste', 'muy', 'bien'],\n",
              " ['excelente', 'resultado'],\n",
              " ['pésimo', 'trabajo', 'muchacho'],\n",
              " ['mal', 'desempeño'],\n",
              " ['muy', 'mal', 'hecho', 'muchacho'],\n",
              " ['trabajo', 'tan', 'pobre'],\n",
              " ['no', 'bien', 'nada', 'bien', 'muchacho']]"
            ]
          },
          "metadata": {},
          "execution_count": 6
        }
      ]
    },
    {
      "cell_type": "markdown",
      "source": [
        "##**5 - Vocabulario**"
      ],
      "metadata": {
        "id": "gQ9yscOFvye6"
      }
    },
    {
      "cell_type": "code",
      "source": [
        "vocab = []\n",
        "\n",
        "for x in Xclean:     # Agregamos los tokens de cada enunciado a nuestro vocabulario.\n",
        "  vocab.extend(x)    # Investiga la diferencia entre el método \"append()\" y \"extend()\".\n",
        "\n",
        "vocab = list(set(vocab))   # Consideramos el vocabulario generado como tipo de dato conjunto (set), \n",
        "                           # para contabilizarlos solo 1 vez y lo volvemos a considerar como lista.\n",
        "\n",
        "vocab.sort()      # conviene ordenarlo de manera alfabética.\n",
        "print('Tamaño del vocabulario:', len(vocab))\n",
        "print('\\nVocabulario:', vocab)"
      ],
      "metadata": {
        "colab": {
          "base_uri": "https://localhost:8080/"
        },
        "id": "KFBR7V9jDTKq",
        "outputId": "a247f802-3cbc-4d85-8375-e2472205bbc9"
      },
      "execution_count": null,
      "outputs": [
        {
          "output_type": "stream",
          "name": "stdout",
          "text": [
            "Tamaño del vocabulario: 18\n",
            "\n",
            "Vocabulario: ['ahora', 'bien', 'como', 'desempeño', 'excelente', 'hecho', 'hiciste', 'mal', 'muchacho', 'muy', 'nada', 'no', 'pobre', 'pésimo', 'resultado', 'sigue', 'tan', 'trabajo']\n"
          ]
        }
      ]
    },
    {
      "cell_type": "markdown",
      "source": [
        "Así, hemos construido nuestro vocabulario con solo 18 palabras (tokens).\n",
        "\n",
        "Es decir, si este fuera finalmente nuestro vocabulario, en adelante todos los enunciados que analicemos deberán filtrarse y cualquier palabra fuera de este conjunto, deberá eliminarse. \n",
        "\n",
        "En particular, para problemas de análisis de sentimiento, este conjunto de palabras de nuestro vocabulario debiera ser suficiente para determinar si un enunciado se clasifica de manera positiva o negativa, de aquí la importancia de generar un buen vocabulario.\n",
        "\n",
        "Más adelante veremos que los vocabularios pueden llegar a ser muy grandes (cientos de miles de palabras y en ocasiones de millones). Esto implicará el requerimiento de más recursos computacionales, que en muchas ocasiones solo los encontraremos con algunas de las soluciones en la nube. Por ello será importante realizar todas estas etapas de pre-procesamiento de texto, para tener solamente aquellos tokens que realmente necesitemos.\n",
        "\n",
        "\n",
        "---\n",
        "\n",
        "\n",
        "\n"
      ],
      "metadata": {
        "id": "-fHuUdSCxnnm"
      }
    },
    {
      "cell_type": "markdown",
      "source": [
        "##**6 - Diccionario: Frecuencia de los tokens**"
      ],
      "metadata": {
        "id": "XiwHE98R3RZM"
      }
    },
    {
      "cell_type": "markdown",
      "source": [
        "Una manera muy sencilla de medir la importancia de una palabra (token), pero en ocasiones bastante poderosa, es determinar su frecuencia de uso en los documentos.\n",
        "\n",
        "Habiendo eliminado las stopwords, podemos suponer que las palabras de mayor frecuencia son las que estarán aportando mayor información en la búsqueda del significado de un enunciado. \n",
        "\n",
        "Como una primera aproximación, la frecuencia será una primera forma de medir la importancia de las palabras, pero más adelante estudiaremos otros métodos mucho más poderosos.\n",
        "\n",
        "Por el momento costruyamos nuestro diccionario considerando las palabras (tokens) como las llaves (keys) y su frecuencia de aparición como los valores (values). "
      ],
      "metadata": {
        "id": "AWHAUxFj3ZG6"
      }
    },
    {
      "cell_type": "code",
      "source": [
        "dicc = {}   # construyamos un diccionario de la forma {key:value} --> {word:freq}\n",
        "\n",
        "for x in Xclean:     # Tomamos cada comentario ya filtrado o procesado.\n",
        "  for w in x:        # Y ahora cada token de un comentario.\n",
        "\n",
        "    if w in dicc:    # Verificamos si cada llave w ya la incluímos al diccionario.\n",
        "      dicc[w] += 1   # Si ya está incluída, aumentamos en 1 su frecuencia de uso.\n",
        "    else:\n",
        "      dicc[w] = 1    # De lo contrario, si es la primera vez que aparece, la contabilizamos con 1.\n",
        "\n",
        "dicc"
      ],
      "metadata": {
        "colab": {
          "base_uri": "https://localhost:8080/"
        },
        "id": "_2epK_DXv6Jo",
        "outputId": "3d747727-60b6-4c3c-a9f6-6b9eb1a94c6c"
      },
      "execution_count": null,
      "outputs": [
        {
          "output_type": "execute_result",
          "data": {
            "text/plain": [
              "{'muy': 3,\n",
              " 'bien': 4,\n",
              " 'hecho': 3,\n",
              " 'excelente': 2,\n",
              " 'trabajo': 3,\n",
              " 'muchacho': 5,\n",
              " 'sigue': 1,\n",
              " 'como': 1,\n",
              " 'ahora': 1,\n",
              " 'hiciste': 1,\n",
              " 'resultado': 1,\n",
              " 'pésimo': 1,\n",
              " 'mal': 2,\n",
              " 'desempeño': 1,\n",
              " 'tan': 1,\n",
              " 'pobre': 1,\n",
              " 'no': 1,\n",
              " 'nada': 1}"
            ]
          },
          "metadata": {},
          "execution_count": 8
        }
      ]
    },
    {
      "cell_type": "markdown",
      "source": [
        "Observa que este diccionario nos está diciendo cuáles palabras han estado apareciendo con mayor frecuencia en los documentos. \n",
        "\n",
        "En particular podemos observar palabras como \"muchacho\", \"bien\", \"muy\" como las de mayor frecuencia.\n",
        "\n",
        "En este paso es muy común hacer otro filtrado del vocabulario, considerando por ejemplo solo aquellas palabras que tienen una frecuencia de uso mínima a cierto valor predeterminado. Por ejemplo, si tenemos miles de comentarios, se pueden filtrar sin pérdida de información, aquellas palabras que solamente aparecieron 2 o 3 veces, por decir algo. \n",
        "\n",
        "También es común filtrar los tokens a aquellos de longitud mayor o igual a 2. Letras o tokens de longitud 1, seguramente no dan mucha información en general en un enunciado.\n",
        "\n",
        "Todas esta decisiones y muchas de las que siguen en esta etapa de pre-procesamiento de los datos, las debe de tomar el analista con base a su experiencia de qué podría funcionar mejor. Es precisamente a través de estos ejemplos y problemas que estaremos analizando durante el presente curso, que podrás ir ganando experiencia."
      ],
      "metadata": {
        "id": "b7APuxAK764j"
      }
    },
    {
      "cell_type": "markdown",
      "source": [
        "\n",
        "##**7 - Diccionarios como Bolsa-de-Palabras (BOW : Bag-Of-Words)**"
      ],
      "metadata": {
        "id": "IyHCrbj69fFk"
      }
    },
    {
      "cell_type": "markdown",
      "source": [
        "Ya vimos que el diccionario nos habla de la frecuencia de uso de cada palabra en todos los documentos que tenemos.\n",
        "\n",
        "Sin embargo, si cada documento lo tenemos etiquetado como de clase positiva o negativa, podemos generar diccionarios para cada tipo de enunciado. \n",
        "\n",
        "De esta manera podemos tener una idea de qué palabras o tokens son las que más se utilizan en comentarios positivos y cuales palabras o tokens en los comentarios negativos.\n",
        "\n",
        "A este concepto se le suele llamar bolsa de palabras, BOW, por sus siglas en inglés. De esta manera podemos tener la \"bolsa de palabras\" que usualmente se usan con los comentarios positivos y la \"bolsa de palabras\" de los comentarios negativos.\n",
        "\n",
        "En muchas ocasiones, con solo determinar a qué bolsa de palabras pertenecen las palabras de un enunciado, puede ser suficiente para determinar con una alta probabilidad, si el enunciado en cuestión se puede clasificar como positivo o negativo.\n",
        "\n",
        "Construyamos a continuación la bolsa de palabras de cada uno de nuestros enunciados que tenemos previamente clasificados como positivos (1) y negativos (0). \n",
        "\n",
        "Recordemos que los enunciados ya filtrados los tenemos en la variable/lista Xclean y sus etiquetas en la variable/lista \"y\"."
      ],
      "metadata": {
        "id": "a6QCy5OB-d20"
      }
    },
    {
      "cell_type": "code",
      "source": [
        "for x,c in zip(Xclean, y):     # Imprimimos cada enunciado con su etiqueta de comentario positivo (1) o comentario negativo (0).\n",
        "  print(x,c)              "
      ],
      "metadata": {
        "colab": {
          "base_uri": "https://localhost:8080/"
        },
        "id": "IGmbJDxx8R05",
        "outputId": "442ea486-09d7-4545-9cf4-d7da27a49358"
      },
      "execution_count": null,
      "outputs": [
        {
          "output_type": "stream",
          "name": "stdout",
          "text": [
            "['muy', 'bien', 'hecho', 'hecho'] 1\n",
            "['excelente', 'trabajo', 'muchacho'] 1\n",
            "['sigue', 'como', 'ahora', 'muchacho'] 1\n",
            "['hiciste', 'muy', 'bien'] 1\n",
            "['excelente', 'resultado'] 1\n",
            "['pésimo', 'trabajo', 'muchacho'] 0\n",
            "['mal', 'desempeño'] 0\n",
            "['muy', 'mal', 'hecho', 'muchacho'] 0\n",
            "['trabajo', 'tan', 'pobre'] 0\n",
            "['no', 'bien', 'nada', 'bien', 'muchacho'] 0\n"
          ]
        }
      ]
    },
    {
      "cell_type": "code",
      "source": [
        "freqs = {}       # Construyamos un diccionario de la forma: {key:value} --> {tupla:freq_class} --> {(word,class):freq_class}\n",
        "\n",
        "for x, c in zip(Xclean, y):    # Iniciamos con cada frase \"x\", con su etiqueta o clase \"c\". \n",
        "  for w in x:                  # Analicemos token por token \"w\".  \n",
        "\n",
        "    pair = (w,c)               # Formamos la tupla (token, etiqueta_clase) \n",
        "    if pair in freqs:          # Si dicha tupla ya está en el diccionario,\n",
        "      freqs[pair] += 1         # le incrementamos su frecuencia en 1,\n",
        "    else:\n",
        "      freqs[pair] = 1          # de lo contrario la inicializamos con 1.\n",
        "\n",
        "freqs"
      ],
      "metadata": {
        "colab": {
          "base_uri": "https://localhost:8080/"
        },
        "id": "OclOgtd7Bpqy",
        "outputId": "c7344c34-b088-4a99-bfac-a41a7285871a"
      },
      "execution_count": null,
      "outputs": [
        {
          "output_type": "execute_result",
          "data": {
            "text/plain": [
              "{('muy', 1): 2,\n",
              " ('bien', 1): 2,\n",
              " ('hecho', 1): 2,\n",
              " ('excelente', 1): 2,\n",
              " ('trabajo', 1): 1,\n",
              " ('muchacho', 1): 2,\n",
              " ('sigue', 1): 1,\n",
              " ('como', 1): 1,\n",
              " ('ahora', 1): 1,\n",
              " ('hiciste', 1): 1,\n",
              " ('resultado', 1): 1,\n",
              " ('pésimo', 0): 1,\n",
              " ('trabajo', 0): 2,\n",
              " ('muchacho', 0): 3,\n",
              " ('mal', 0): 2,\n",
              " ('desempeño', 0): 1,\n",
              " ('muy', 0): 1,\n",
              " ('hecho', 0): 1,\n",
              " ('tan', 0): 1,\n",
              " ('pobre', 0): 1,\n",
              " ('no', 0): 1,\n",
              " ('bien', 0): 2,\n",
              " ('nada', 0): 1}"
            ]
          },
          "metadata": {},
          "execution_count": 10
        }
      ]
    },
    {
      "cell_type": "markdown",
      "source": [
        "Observa que los primeros 10 elementos son parte de la bolsa de palabras de los comentarios positivos.\n",
        "\n",
        "La forma en que se lee cada uno de estos elementos es como sigue:\n",
        "\n",
        "Por ejemplo, el elemento ('muy',1):2 nos dice que la palabra \"muy\" apareció 2 veces en los comentarios positivos. Y esa misma palabra, \"muy\", apreció 1 vez en los comentarios negativos, esto por el elemento: ('muy',0):1.\n",
        "\n",
        "Otro caso, ('muchacho',1):2, nos dice que la palabra \"muchacho\" se usó 2 veces en los comentarios positivos. \n",
        "\n",
        "Y por ('muchacho',0):3, sabemos que la misma palabra se utilizó 3 veces en los comentarios negativos.\n",
        "\n"
      ],
      "metadata": {
        "id": "kVIxZAVeF99t"
      }
    },
    {
      "cell_type": "markdown",
      "source": [
        "##**8 - Nube de palabras (word cloud)**"
      ],
      "metadata": {
        "id": "OrngEtoyLIUC"
      }
    },
    {
      "cell_type": "markdown",
      "source": [
        "Una vez identificadas las palabras con sus frecuencias de uso por tipo de comentario, positivo o negativo, podemos generar una nube de palabras para cada clase.\n",
        "\n",
        "Las nubes de palabras son un apoyo visual para identificar de manera rápida algunos de los tokens más relevantes por cada clase."
      ],
      "metadata": {
        "id": "HbnFCMprrdQR"
      }
    },
    {
      "cell_type": "code",
      "source": [
        "from wordcloud import WordCloud\n",
        "import matplotlib.pyplot as plt"
      ],
      "metadata": {
        "id": "skv4r3mrAV8A"
      },
      "execution_count": null,
      "outputs": []
    },
    {
      "cell_type": "code",
      "source": [
        "pos_tok=[]  # inicializamos listas de los tokens positivos y negativos\n",
        "neg_tok=[] \n",
        "\n",
        "for x,c in zip(Xclean, y):   \n",
        "  if c==1:\n",
        "    pos_tok.extend(x)   # tokens usados en comentarios positivos\n",
        "  else: \n",
        "    neg_tok.extend(x)   # tokens usados en comentarios negativos\n",
        "\n",
        "pt = ' '.join(pos_tok)   # requerimos un solo string por cada clase para la nube de palabras.\n",
        "nt = ' '.join(neg_tok)\n",
        "\n",
        "print('String de los comentarios/tokens filtrados positivos:\\n', pt)\n",
        "print('\\nString de los comentarios/tokens filtrados negativos:\\n', nt)"
      ],
      "metadata": {
        "colab": {
          "base_uri": "https://localhost:8080/"
        },
        "id": "wLD7pcU1kUhq",
        "outputId": "858279b8-8d9f-44bb-9fc4-ab0ea96ee432"
      },
      "execution_count": null,
      "outputs": [
        {
          "output_type": "stream",
          "name": "stdout",
          "text": [
            "String de los comentarios/tokens filtrados positivos:\n",
            " muy bien hecho hecho excelente trabajo muchacho sigue como ahora muchacho hiciste muy bien excelente resultado\n",
            "\n",
            "String de los comentarios/tokens filtrados negativos:\n",
            " pésimo trabajo muchacho mal desempeño muy mal hecho muchacho trabajo tan pobre no bien nada bien muchacho\n"
          ]
        }
      ]
    },
    {
      "cell_type": "code",
      "source": [
        "fig, (ax1, ax2) = plt.subplots(1, 2, figsize=(12,12))\n",
        "\n",
        "# Nube de palabras de comentarios positivos:\n",
        "wordcloudnn = WordCloud().generate(pt)\n",
        "ax1.imshow(wordcloudnn, interpolation='bilinear')\n",
        "ax1.axis(\"off\")\n",
        "ax1.set_title('Comentarios Positivos')\n",
        "\n",
        "# Nube de palabras de comentarios negativos:\n",
        "wordcloudnn = WordCloud().generate(nt)\n",
        "ax2.imshow(wordcloudnn, interpolation='bilinear')\n",
        "ax2.axis(\"off\")\n",
        "ax2.set_title('Comentarios Negativos')\n",
        "\n",
        "plt.show()\n"
      ],
      "metadata": {
        "colab": {
          "base_uri": "https://localhost:8080/"
        },
        "id": "RxcczjhzrWZK",
        "outputId": "0948b67f-4a4d-4858-bf24-a8fd2c48cde7"
      },
      "execution_count": null,
      "outputs": [
        {
          "output_type": "display_data",
          "data": {
            "text/plain": [
              "<Figure size 1200x1200 with 2 Axes>"
            ],
            "image/png": "[encoded data removed]"
          },
          "metadata": {}
        }
      ]
    },
    {
      "cell_type": "markdown",
      "source": [
        "##**9 - Vectorización de documentos**"
      ],
      "metadata": {
        "id": "Jo45o8tAvlYM"
      }
    },
    {
      "cell_type": "markdown",
      "source": [
        "Una parte primordial que estudiaremos en próximas semanas es la representación vectorial tanto de los documentos/enunciados, como de las palabras/tokens.\n",
        "\n",
        "Cuando hablábamos del proceso de tokenización, mencionamos que se busca asociar a estas unidades mínimas de información con algo más informativo que solo un escalar. Es aquí donde podemos empezar a asociar un vector a cada enunciado/documento, o bien a cada palabra/token. Es claro que un vector contiene mucho mayor información que solo un escalar.\n",
        "\n",
        "Con todo lo construído hasta ahora, vocabulario y tokenización de los enunciados, podemos vectorizar ahora dichos enunciados como sigue:\n",
        "\n"
      ],
      "metadata": {
        "id": "ouv4CzkNw-Uu"
      }
    },
    {
      "cell_type": "code",
      "source": [
        "Xclean   # recordemos nuestra tokenización de cada enunciado/documento."
      ],
      "metadata": {
        "colab": {
          "base_uri": "https://localhost:8080/"
        },
        "id": "u5Z14Ueiv45r",
        "outputId": "96e02d33-a698-43df-f416-c4548c639d6c"
      },
      "execution_count": null,
      "outputs": [
        {
          "output_type": "execute_result",
          "data": {
            "text/plain": [
              "[['muy', 'bien', 'hecho', 'hecho'],\n",
              " ['excelente', 'trabajo', 'muchacho'],\n",
              " ['sigue', 'como', 'ahora', 'muchacho'],\n",
              " ['hiciste', 'muy', 'bien'],\n",
              " ['excelente', 'resultado'],\n",
              " ['pésimo', 'trabajo', 'muchacho'],\n",
              " ['mal', 'desempeño'],\n",
              " ['muy', 'mal', 'hecho', 'muchacho'],\n",
              " ['trabajo', 'tan', 'pobre'],\n",
              " ['no', 'bien', 'nada', 'bien', 'muchacho']]"
            ]
          },
          "metadata": {},
          "execution_count": 14
        }
      ]
    },
    {
      "cell_type": "code",
      "source": [
        "for k,w in enumerate(vocab):     # Igualmente recordemos cómo está indexado cada una de las 18 palabras/términos/tokens del vocabulario.\n",
        "  print(k,w)        # La palabra/token \"w\" de índice \"k\", estará relacionada con la coordenada \"k\" del vector\n",
        "                    # que asociemos a un enunciado/documento."
      ],
      "metadata": {
        "colab": {
          "base_uri": "https://localhost:8080/"
        },
        "id": "fedl87cPwOiA",
        "outputId": "334c7f5f-b523-4b58-99a2-580d996a70fc"
      },
      "execution_count": null,
      "outputs": [
        {
          "output_type": "stream",
          "name": "stdout",
          "text": [
            "0 ahora\n",
            "1 bien\n",
            "2 como\n",
            "3 desempeño\n",
            "4 excelente\n",
            "5 hecho\n",
            "6 hiciste\n",
            "7 mal\n",
            "8 muchacho\n",
            "9 muy\n",
            "10 nada\n",
            "11 no\n",
            "12 pobre\n",
            "13 pésimo\n",
            "14 resultado\n",
            "15 sigue\n",
            "16 tan\n",
            "17 trabajo\n"
          ]
        }
      ]
    },
    {
      "cell_type": "markdown",
      "source": [
        "Entonces, lo que haremos ahora es asociar a cada enunciado/documento un vector de 18 coordenadas, que es la longitud del vocabulario generado. Y la posición $k$-$ésima$ de cada coordenada de cada vector/arreglo/enunciado, estará asociada al índice $k$-$ésimo$ de la palabra/término/token del vocabulario. \n",
        "\n",
        "Finalmente, el valor asignado a la coordenada $k$-$ésima$ del vector asociado a un enunciado, será la frecuencia de aparición en dicho enunciado de la palabra/token de índice $k$ en el vocabulario. \n",
        "\n",
        "En este tipo de vectorización se está representando el número de veces que aparece cada palabra del vocabulario en un enunciado, sin embargo no toma en cuenta la posición de cada palabra dentro del eneunciado. Por ello, usualmente suele referirse a esta representación vectorial como vectores bag-of-words.\n",
        "\n",
        "Cuando estudiemos técnicas de aprendizaje profundo (deep learning) en próximas semanas, analizaremos otro tipo de representación vectorial que sí toma en cuenta la posición de una palabra dentro del enunciado en que aparece.\n",
        "\n",
        "Pero por ahora veamos cómo obtener estos vectores bag-of-words (BOW):"
      ],
      "metadata": {
        "id": "ofeaE6JBz_Wv"
      }
    },
    {
      "cell_type": "code",
      "source": [
        "import numpy as np"
      ],
      "metadata": {
        "id": "_KSxXOMINHhq"
      },
      "execution_count": null,
      "outputs": []
    },
    {
      "cell_type": "code",
      "source": [
        "for x in Xclean:            # Consideremos cada enunciado de nuestros enunciados/documentos que hemos ya limpiado.\n",
        "  bow_vector = np.zeros(len(vocab))     # Inicializamos: para cada enunciado/documento le asociaremos un vector del tamaño \n",
        "                                        # la cantidad de palabras/tokens en el vocabulario.\n",
        "\n",
        "  for w in x:      # Consideremos cada palabra/token de cada enunciado.\n",
        "    for k,word in enumerate(vocab):          # Y también extraemos cada palabra/token con su índice, del diccionario.\n",
        "      if word==w:                 \n",
        "        bow_vector[k] += 1            # Cuando la palabra/token de índice \"k\" del vocabulario coincide con la palabra/token del enunciado,\n",
        "                                      # se incrementa su frecuencia de aparición en 1.\n",
        "\n",
        "  print('{0}\\n{1}\\n'.format(x, bow_vector))         # Veamos cómo va quedando cada enunciado y su vector asociado."
      ],
      "metadata": {
        "colab": {
          "base_uri": "https://localhost:8080/"
        },
        "id": "5eeE1cC0rWWH",
        "outputId": "7878c628-5819-4957-e0e2-969c2d4f7c6e"
      },
      "execution_count": null,
      "outputs": [
        {
          "output_type": "stream",
          "name": "stdout",
          "text": [
            "['muy', 'bien', 'hecho', 'hecho']\n",
            "[0. 1. 0. 0. 0. 2. 0. 0. 0. 1. 0. 0. 0. 0. 0. 0. 0. 0.]\n",
            "\n",
            "['excelente', 'trabajo', 'muchacho']\n",
            "[0. 0. 0. 0. 1. 0. 0. 0. 1. 0. 0. 0. 0. 0. 0. 0. 0. 1.]\n",
            "\n",
            "['sigue', 'como', 'ahora', 'muchacho']\n",
            "[1. 0. 1. 0. 0. 0. 0. 0. 1. 0. 0. 0. 0. 0. 0. 1. 0. 0.]\n",
            "\n",
            "['hiciste', 'muy', 'bien']\n",
            "[0. 1. 0. 0. 0. 0. 1. 0. 0. 1. 0. 0. 0. 0. 0. 0. 0. 0.]\n",
            "\n",
            "['excelente', 'resultado']\n",
            "[0. 0. 0. 0. 1. 0. 0. 0. 0. 0. 0. 0. 0. 0. 1. 0. 0. 0.]\n",
            "\n",
            "['pésimo', 'trabajo', 'muchacho']\n",
            "[0. 0. 0. 0. 0. 0. 0. 0. 1. 0. 0. 0. 0. 1. 0. 0. 0. 1.]\n",
            "\n",
            "['mal', 'desempeño']\n",
            "[0. 0. 0. 1. 0. 0. 0. 1. 0. 0. 0. 0. 0. 0. 0. 0. 0. 0.]\n",
            "\n",
            "['muy', 'mal', 'hecho', 'muchacho']\n",
            "[0. 0. 0. 0. 0. 1. 0. 1. 1. 1. 0. 0. 0. 0. 0. 0. 0. 0.]\n",
            "\n",
            "['trabajo', 'tan', 'pobre']\n",
            "[0. 0. 0. 0. 0. 0. 0. 0. 0. 0. 0. 0. 1. 0. 0. 0. 1. 1.]\n",
            "\n",
            "['no', 'bien', 'nada', 'bien', 'muchacho']\n",
            "[0. 2. 0. 0. 0. 0. 0. 0. 1. 0. 1. 1. 0. 0. 0. 0. 0. 0.]\n",
            "\n"
          ]
        }
      ]
    },
    {
      "cell_type": "markdown",
      "source": [
        "Observa que a cada enunciado se le asignó un vector de 18 coordenadas, porque en este ejemplo tenemos 18 palabras/tokens en nuestro vocabulario. \n",
        "\n",
        "En particular, el vector asociado al último enunciado [ no, bien, nada, bien, muchacho ] tendrá valores cero en sus coordendas, excepto por las posiciones/coordenadas con índice 1 (por la palabra \"bien\"), con índice 8 (por la palabra \"muchacho\"), con índice 10 (por la palabra \"nada\") y con índice 11 (por la palabra \" no\"). Como la palabra \"bien\" aparece 2 veces en este enunciado, se tiene el valor de 2 en esta coordenada.\n",
        "\n",
        "Por último, cabe mencionar que estos 10 vectores con 18 coordenadas cada uno y acomodados en forma matricial para que cada uno de ellos sea un renglón, formarán lo que más adelante llamaremos la Matriz-Documento-Término, abreviada DTM, por sus siglas en inglés \"Document-Term-Matrix\".\n",
        "\n",
        "Habrás observado que durante estos ejercicios he hecho referencia a la palabra \"término\", escribiendo en ocasiones \"palabras/tokens/términos\". Es por esta razón, para irnos familiarizando con todos estos conceptos a los cuales se les hace referencia de diferentes formas."
      ],
      "metadata": {
        "id": "67qNVIXe-1Q7"
      }
    },
    {
      "cell_type": "markdown",
      "source": [
        "##**10 - La Document-Term-Matrix (DTM)**\n"
      ],
      "metadata": {
        "id": "dubz891NTLvV"
      }
    },
    {
      "cell_type": "markdown",
      "source": [
        "Sobra decir que muchas de las representaciones que hemos obtenido hasta ahora las podremos obtener con apoyo de diferentes librerías. Sin embargo, hicimos este ejercicio de manera detallada porque todos estos conceptos son muy importantes para lo que estaremos estudiando más adelante y debe quedarte muy claro el significado de todos ellos.\n",
        "\n",
        "En particular, veamos cómo obtener esta última matriz que se llama Document-Term-Matrix (DTM) en inglés, con apoyo de librerías y métodos que optimizan y facilitan su obtención. \n",
        "\n",
        "La próxima semana retomaremos con mayor detalle el estudio de la DTM debido a su importancia para lo que seguiremos estudiando."
      ],
      "metadata": {
        "id": "rYdPDZWxFi5u"
      }
    },
    {
      "cell_type": "code",
      "source": [
        "from sklearn.feature_extraction.text import CountVectorizer"
      ],
      "metadata": {
        "id": "D7FC71CsTYgU"
      },
      "execution_count": null,
      "outputs": []
    },
    {
      "cell_type": "markdown",
      "source": [
        "Para obtener la matriz DTM con apoyo del método CountVectorizer(), requerimos que cada documento/enunciado esté en un solo string. \n",
        "\n",
        "Una vez hecho esto, obtenemos la matriz de manera directa como se muestra a continuación:"
      ],
      "metadata": {
        "id": "lU7o0VqwIbHY"
      }
    },
    {
      "cell_type": "code",
      "source": [
        "Xx = []  \n",
        "\n",
        "for x in Xclean:\n",
        "  Xx.append(' '.join(x))\n",
        "\n",
        "Xx"
      ],
      "metadata": {
        "colab": {
          "base_uri": "https://localhost:8080/"
        },
        "id": "gj-m2MX8Clh2",
        "outputId": "9c9f38ee-692e-4c17-be07-971a1e8e6c0e"
      },
      "execution_count": null,
      "outputs": [
        {
          "output_type": "execute_result",
          "data": {
            "text/plain": [
              "['muy bien hecho hecho',\n",
              " 'excelente trabajo muchacho',\n",
              " 'sigue como ahora muchacho',\n",
              " 'hiciste muy bien',\n",
              " 'excelente resultado',\n",
              " 'pésimo trabajo muchacho',\n",
              " 'mal desempeño',\n",
              " 'muy mal hecho muchacho',\n",
              " 'trabajo tan pobre',\n",
              " 'no bien nada bien muchacho']"
            ]
          },
          "metadata": {},
          "execution_count": 19
        }
      ]
    },
    {
      "cell_type": "code",
      "source": [
        "vectorizer = CountVectorizer()  \n",
        "\n",
        "DTM = vectorizer.fit_transform(Xx)\n",
        "\n",
        "print(DTM.toarray())"
      ],
      "metadata": {
        "colab": {
          "base_uri": "https://localhost:8080/"
        },
        "id": "47CxGR58Tjeg",
        "outputId": "cd984bb5-c456-4512-b72c-3149c1565237"
      },
      "execution_count": null,
      "outputs": [
        {
          "output_type": "stream",
          "name": "stdout",
          "text": [
            "[[0 1 0 0 0 2 0 0 0 1 0 0 0 0 0 0 0 0]\n",
            " [0 0 0 0 1 0 0 0 1 0 0 0 0 0 0 0 0 1]\n",
            " [1 0 1 0 0 0 0 0 1 0 0 0 0 0 0 1 0 0]\n",
            " [0 1 0 0 0 0 1 0 0 1 0 0 0 0 0 0 0 0]\n",
            " [0 0 0 0 1 0 0 0 0 0 0 0 0 0 1 0 0 0]\n",
            " [0 0 0 0 0 0 0 0 1 0 0 0 0 1 0 0 0 1]\n",
            " [0 0 0 1 0 0 0 1 0 0 0 0 0 0 0 0 0 0]\n",
            " [0 0 0 0 0 1 0 1 1 1 0 0 0 0 0 0 0 0]\n",
            " [0 0 0 0 0 0 0 0 0 0 0 0 1 0 0 0 1 1]\n",
            " [0 2 0 0 0 0 0 0 1 0 1 1 0 0 0 0 0 0]]\n"
          ]
        }
      ]
    },
    {
      "cell_type": "markdown",
      "source": [
        "¡Observa que son exactmente los mismos vectores y valores en cada coordenada que los que obtuvimos paso a paso!\n",
        "\n",
        "Observaremos que en general estas matrices son lo que se llaman dispersas (sparse matrices en inglés), es decir, que tendrán una gran cantidad de ceros. Ello llevará a buscar representaciones que faciliten y aceleren las operaciones durante su manejo.\n",
        "\n",
        "Las próximas semanas platicamos más al respecto de estas matrices, pero finalmente también observa que no solo los renglones se pueden ver como representaciones vectoriales de cada enunciado, sino que también cada columna se podrá ver como una representación vectorial de cada palabra/token."
      ],
      "metadata": {
        "id": "Y3Uf-x5XWZdn"
      }
    },
    {
      "cell_type": "markdown",
      "source": [
        "##**Fin de la Parte 2 de los ejercicios complementarios de la Semana 3**"
      ],
      "metadata": {
        "id": "2K7B5NYqKIK2"
      }
    }
  ]
}